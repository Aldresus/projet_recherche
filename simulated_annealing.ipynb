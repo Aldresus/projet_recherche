{
 "cells": [
  {
   "cell_type": "code",
   "execution_count": 1,
   "metadata": {},
   "outputs": [
    {
     "name": "stderr",
     "output_type": "stream",
     "text": [
      "2024-05-20 15:10:40.747736: I tensorflow/core/platform/cpu_feature_guard.cc:210] This TensorFlow binary is optimized to use available CPU instructions in performance-critical operations.\n",
      "To enable the following instructions: AVX2 FMA, in other operations, rebuild TensorFlow with the appropriate compiler flags.\n",
      "2024-05-20 15:10:42.178627: W tensorflow/compiler/tf2tensorrt/utils/py_utils.cc:38] TF-TRT Warning: Could not find TensorRT\n"
     ]
    },
    {
     "name": "stdout",
     "output_type": "stream",
     "text": [
      "   production   latitude  longitude   vmp  imp   voc   isc  p_per_m2  p_max  \\\n",
      "0         0.8  48.575437   7.768668  27.3  7.7  33.3  8.17     143.0    210   \n",
      "1        16.9  48.575437   7.768668  27.3  7.7  33.3  8.17     143.0    210   \n",
      "2         1.4  48.575437   7.768668  27.3  7.7  33.3  8.17     143.0    210   \n",
      "3         6.6  48.575437   7.768668  27.3  7.7  33.3  8.17     143.0    210   \n",
      "4         0.3  48.575437   7.768668  27.3  7.7  33.3  8.17     143.0    210   \n",
      "\n",
      "   panel_area  ...  wind_speed_10m_std  wind_speed_10m_min  wind_speed_10m_q1  \\\n",
      "0        1.72  ...            0.903114                 1.3              1.900   \n",
      "1        1.72  ...            0.969186                 0.9              2.975   \n",
      "2        1.72  ...            0.306945                 0.4              1.100   \n",
      "3        1.72  ...            0.491844                 0.4              0.800   \n",
      "4        1.72  ...            0.527737                 1.6              2.275   \n",
      "\n",
      "   wind_speed_10m_q2  wind_speed_10m_q3  wind_speed_10m_max  building_id  day  \\\n",
      "0               3.00              3.450                 4.1            1    1   \n",
      "1               3.50              3.825                 4.8            1    2   \n",
      "2               1.20              1.400                 1.9            1    3   \n",
      "3               1.20              1.725                 2.1            1    4   \n",
      "4               2.85              3.100                 3.4            1    5   \n",
      "\n",
      "   month  year  \n",
      "0      1  2019  \n",
      "1      1  2019  \n",
      "2      1  2019  \n",
      "3      1  2019  \n",
      "4      1  2019  \n",
      "\n",
      "[5 rows x 164 columns]\n",
      "lstm1_units: 128, activation: tanh, dropout1_rate: 0.2\n",
      "lstm2_units: 64, activation: tanh, dropout2_rate: 0.2\n",
      "dense1_units: 64, activation: relu\n",
      "dense2_units: 1, activation: linear\n",
      "optimizer_learning_rate: 0.001, epochs: 300, batch_size: 128\n"
     ]
    },
    {
     "name": "stderr",
     "output_type": "stream",
     "text": [
      "2024-05-20 15:10:45.214586: I external/local_xla/xla/stream_executor/cuda/cuda_executor.cc:998] successful NUMA node read from SysFS had negative value (-1), but there must be at least one NUMA node, so returning NUMA node zero. See more at https://github.com/torvalds/linux/blob/v6.0/Documentation/ABI/testing/sysfs-bus-pci#L344-L355\n",
      "2024-05-20 15:10:45.257762: I external/local_xla/xla/stream_executor/cuda/cuda_executor.cc:998] successful NUMA node read from SysFS had negative value (-1), but there must be at least one NUMA node, so returning NUMA node zero. See more at https://github.com/torvalds/linux/blob/v6.0/Documentation/ABI/testing/sysfs-bus-pci#L344-L355\n",
      "2024-05-20 15:10:45.257971: I external/local_xla/xla/stream_executor/cuda/cuda_executor.cc:998] successful NUMA node read from SysFS had negative value (-1), but there must be at least one NUMA node, so returning NUMA node zero. See more at https://github.com/torvalds/linux/blob/v6.0/Documentation/ABI/testing/sysfs-bus-pci#L344-L355\n",
      "2024-05-20 15:10:45.259476: I external/local_xla/xla/stream_executor/cuda/cuda_executor.cc:998] successful NUMA node read from SysFS had negative value (-1), but there must be at least one NUMA node, so returning NUMA node zero. See more at https://github.com/torvalds/linux/blob/v6.0/Documentation/ABI/testing/sysfs-bus-pci#L344-L355\n",
      "2024-05-20 15:10:45.259996: I external/local_xla/xla/stream_executor/cuda/cuda_executor.cc:998] successful NUMA node read from SysFS had negative value (-1), but there must be at least one NUMA node, so returning NUMA node zero. See more at https://github.com/torvalds/linux/blob/v6.0/Documentation/ABI/testing/sysfs-bus-pci#L344-L355\n",
      "2024-05-20 15:10:45.260530: I external/local_xla/xla/stream_executor/cuda/cuda_executor.cc:998] successful NUMA node read from SysFS had negative value (-1), but there must be at least one NUMA node, so returning NUMA node zero. See more at https://github.com/torvalds/linux/blob/v6.0/Documentation/ABI/testing/sysfs-bus-pci#L344-L355\n",
      "2024-05-20 15:10:45.351894: I external/local_xla/xla/stream_executor/cuda/cuda_executor.cc:998] successful NUMA node read from SysFS had negative value (-1), but there must be at least one NUMA node, so returning NUMA node zero. See more at https://github.com/torvalds/linux/blob/v6.0/Documentation/ABI/testing/sysfs-bus-pci#L344-L355\n",
      "2024-05-20 15:10:45.352269: I external/local_xla/xla/stream_executor/cuda/cuda_executor.cc:998] successful NUMA node read from SysFS had negative value (-1), but there must be at least one NUMA node, so returning NUMA node zero. See more at https://github.com/torvalds/linux/blob/v6.0/Documentation/ABI/testing/sysfs-bus-pci#L344-L355\n",
      "2024-05-20 15:10:45.352475: I external/local_xla/xla/stream_executor/cuda/cuda_executor.cc:998] successful NUMA node read from SysFS had negative value (-1), but there must be at least one NUMA node, so returning NUMA node zero. See more at https://github.com/torvalds/linux/blob/v6.0/Documentation/ABI/testing/sysfs-bus-pci#L344-L355\n",
      "2024-05-20 15:10:45.352629: I tensorflow/core/common_runtime/gpu/gpu_device.cc:1928] Created device /job:localhost/replica:0/task:0/device:GPU:0 with 4778 MB memory:  -> device: 0, name: NVIDIA GeForce RTX 2060, pci bus id: 0000:01:00.0, compute capability: 7.5\n",
      "/home/quentin/Desktop/Optimization/.venv/lib/python3.12/site-packages/keras/src/layers/rnn/rnn.py:204: UserWarning: Do not pass an `input_shape`/`input_dim` argument to a layer. When using Sequential models, prefer using an `Input(shape)` object as the first layer in the model instead.\n",
      "  super().__init__(**kwargs)\n",
      "2024-05-20 15:10:50.093059: I external/local_xla/xla/stream_executor/cuda/cuda_dnn.cc:465] Loaded cuDNN version 8907\n"
     ]
    },
    {
     "name": "stdout",
     "output_type": "stream",
     "text": [
      "finito pipo\n",
      "\u001b[1m60/60\u001b[0m \u001b[32m━━━━━━━━━━━━━━━━━━━━\u001b[0m\u001b[37m\u001b[0m \u001b[1m1s\u001b[0m 6ms/step\n",
      "\u001b[1m8/8\u001b[0m \u001b[32m━━━━━━━━━━━━━━━━━━━━\u001b[0m\u001b[37m\u001b[0m \u001b[1m0s\u001b[0m 3ms/step \n",
      "MSE: 8.22560549636898\n",
      "lstm1_units: 128, activation: tanh, dropout1_rate: 0.2\n",
      "lstm2_units: 64, activation: tanh, dropout2_rate: 0.2\n",
      "dense1_units: 64, activation: relu\n",
      "dense2_units: 1, activation: linear\n",
      "optimizer_learning_rate: 0.0004, epochs: 300, batch_size: 128\n"
     ]
    },
    {
     "name": "stderr",
     "output_type": "stream",
     "text": [
      "/home/quentin/Desktop/Optimization/.venv/lib/python3.12/site-packages/keras/src/layers/rnn/rnn.py:204: UserWarning: Do not pass an `input_shape`/`input_dim` argument to a layer. When using Sequential models, prefer using an `Input(shape)` object as the first layer in the model instead.\n",
      "  super().__init__(**kwargs)\n"
     ]
    },
    {
     "name": "stdout",
     "output_type": "stream",
     "text": [
      "finito pipo\n",
      "\u001b[1m60/60\u001b[0m \u001b[32m━━━━━━━━━━━━━━━━━━━━\u001b[0m\u001b[37m\u001b[0m \u001b[1m1s\u001b[0m 5ms/step\n",
      "\u001b[1m8/8\u001b[0m \u001b[32m━━━━━━━━━━━━━━━━━━━━\u001b[0m\u001b[37m\u001b[0m \u001b[1m0s\u001b[0m 3ms/step \n",
      "MSE: 17.005625648632286\n",
      "current_solution [128, 'tanh', 0.2, 64, 'tanh', 0.2, 64, 'relu', 1, 'linear', 0.001, 300, 128]\n",
      "neighbor [128, 'tanh', 0.2, 64, 'tanh', 0.2, 64, 'relu', 1, 'linear', 0.0004, 300, 128]\n",
      "mse diff: 8.780020152263306\n",
      "accept new solution [128, 'tanh', 0.2, 64, 'tanh', 0.2, 64, 'relu', 1, 'linear', 0.0004, 300, 128]\n",
      "temp 19.8, mse 17.005625648632286, best_mse 8.22560549636898\n",
      "lstm1_units: 128, activation: tanh, dropout1_rate: 0.2\n",
      "lstm2_units: 64, activation: tanh, dropout2_rate: 0.2\n",
      "dense1_units: 64, activation: relu\n",
      "dense2_units: 1, activation: linear\n",
      "optimizer_learning_rate: 0.0004, epochs: 390, batch_size: 128\n"
     ]
    },
    {
     "name": "stderr",
     "output_type": "stream",
     "text": [
      "/home/quentin/Desktop/Optimization/.venv/lib/python3.12/site-packages/keras/src/layers/rnn/rnn.py:204: UserWarning: Do not pass an `input_shape`/`input_dim` argument to a layer. When using Sequential models, prefer using an `Input(shape)` object as the first layer in the model instead.\n",
      "  super().__init__(**kwargs)\n"
     ]
    },
    {
     "name": "stdout",
     "output_type": "stream",
     "text": [
      "finito pipo\n",
      "\u001b[1m60/60\u001b[0m \u001b[32m━━━━━━━━━━━━━━━━━━━━\u001b[0m\u001b[37m\u001b[0m \u001b[1m1s\u001b[0m 6ms/step\n",
      "\u001b[1m8/8\u001b[0m \u001b[32m━━━━━━━━━━━━━━━━━━━━\u001b[0m\u001b[37m\u001b[0m \u001b[1m0s\u001b[0m 4ms/step \n",
      "MSE: 6.6007878420274775\n",
      "current_solution [128, 'tanh', 0.2, 64, 'tanh', 0.2, 64, 'relu', 1, 'linear', 0.0004, 300, 128]\n",
      "neighbor [128, 'tanh', 0.2, 64, 'tanh', 0.2, 64, 'relu', 1, 'linear', 0.0004, 390, 128]\n",
      "mse diff: -10.404837806604808\n",
      "accept new solution [128, 'tanh', 0.2, 64, 'tanh', 0.2, 64, 'relu', 1, 'linear', 0.0004, 390, 128]\n",
      "better solution\n",
      "temp 19.602, mse 6.6007878420274775, best_mse 6.6007878420274775\n",
      "lstm1_units: 128, activation: tanh, dropout1_rate: 0.63\n",
      "lstm2_units: 64, activation: tanh, dropout2_rate: 0.2\n",
      "dense1_units: 64, activation: relu\n",
      "dense2_units: 1, activation: linear\n",
      "optimizer_learning_rate: 0.0004, epochs: 390, batch_size: 128\n"
     ]
    },
    {
     "name": "stderr",
     "output_type": "stream",
     "text": [
      "/home/quentin/Desktop/Optimization/.venv/lib/python3.12/site-packages/keras/src/layers/rnn/rnn.py:204: UserWarning: Do not pass an `input_shape`/`input_dim` argument to a layer. When using Sequential models, prefer using an `Input(shape)` object as the first layer in the model instead.\n",
      "  super().__init__(**kwargs)\n"
     ]
    },
    {
     "name": "stdout",
     "output_type": "stream",
     "text": [
      "finito pipo\n",
      "\u001b[1m60/60\u001b[0m \u001b[32m━━━━━━━━━━━━━━━━━━━━\u001b[0m\u001b[37m\u001b[0m \u001b[1m1s\u001b[0m 6ms/step\n",
      "\u001b[1m8/8\u001b[0m \u001b[32m━━━━━━━━━━━━━━━━━━━━\u001b[0m\u001b[37m\u001b[0m \u001b[1m0s\u001b[0m 3ms/step \n",
      "MSE: 11.242897431723474\n",
      "current_solution [128, 'tanh', 0.2, 64, 'tanh', 0.2, 64, 'relu', 1, 'linear', 0.0004, 390, 128]\n",
      "neighbor [128, 'tanh', 0.63, 64, 'tanh', 0.2, 64, 'relu', 1, 'linear', 0.0004, 390, 128]\n",
      "mse diff: 4.6421095896959965\n",
      "accept new solution [128, 'tanh', 0.63, 64, 'tanh', 0.2, 64, 'relu', 1, 'linear', 0.0004, 390, 128]\n",
      "temp 19.40598, mse 11.242897431723474, best_mse 6.6007878420274775\n",
      "lstm1_units: 128, activation: tanh, dropout1_rate: 0.63\n",
      "lstm2_units: 64, activation: tanh, dropout2_rate: 0.2\n",
      "dense1_units: 64, activation: relu\n",
      "dense2_units: 1, activation: linear\n",
      "optimizer_learning_rate: 0.0004, epochs: 390, batch_size: 128\n"
     ]
    },
    {
     "name": "stderr",
     "output_type": "stream",
     "text": [
      "/home/quentin/Desktop/Optimization/.venv/lib/python3.12/site-packages/keras/src/layers/rnn/rnn.py:204: UserWarning: Do not pass an `input_shape`/`input_dim` argument to a layer. When using Sequential models, prefer using an `Input(shape)` object as the first layer in the model instead.\n",
      "  super().__init__(**kwargs)\n"
     ]
    },
    {
     "name": "stdout",
     "output_type": "stream",
     "text": [
      "finito pipo\n",
      "\u001b[1m60/60\u001b[0m \u001b[32m━━━━━━━━━━━━━━━━━━━━\u001b[0m\u001b[37m\u001b[0m \u001b[1m1s\u001b[0m 6ms/step\n",
      "\u001b[1m8/8\u001b[0m \u001b[32m━━━━━━━━━━━━━━━━━━━━\u001b[0m\u001b[37m\u001b[0m \u001b[1m0s\u001b[0m 2ms/step \n",
      "MSE: 12.171485294310548\n",
      "current_solution [128, 'tanh', 0.63, 64, 'tanh', 0.2, 64, 'relu', 1, 'linear', 0.0004, 390, 128]\n",
      "neighbor [128, 'tanh', 0.63, 64, 'tanh', 0.2, 64, 'relu', 1, 'linear', 0.0004, 390, 128]\n",
      "mse diff: 0.928587862587074\n",
      "accept new solution [128, 'tanh', 0.63, 64, 'tanh', 0.2, 64, 'relu', 1, 'linear', 0.0004, 390, 128]\n",
      "temp 19.211920199999998, mse 12.171485294310548, best_mse 6.6007878420274775\n",
      "lstm1_units: 128, activation: tanh, dropout1_rate: 0.63\n",
      "lstm2_units: 64, activation: tanh, dropout2_rate: 0.2\n",
      "dense1_units: 176, activation: relu\n",
      "dense2_units: 1, activation: linear\n",
      "optimizer_learning_rate: 0.0004, epochs: 390, batch_size: 128\n"
     ]
    },
    {
     "name": "stderr",
     "output_type": "stream",
     "text": [
      "/home/quentin/Desktop/Optimization/.venv/lib/python3.12/site-packages/keras/src/layers/rnn/rnn.py:204: UserWarning: Do not pass an `input_shape`/`input_dim` argument to a layer. When using Sequential models, prefer using an `Input(shape)` object as the first layer in the model instead.\n",
      "  super().__init__(**kwargs)\n"
     ]
    },
    {
     "name": "stdout",
     "output_type": "stream",
     "text": [
      "finito pipo\n",
      "\u001b[1m60/60\u001b[0m \u001b[32m━━━━━━━━━━━━━━━━━━━━\u001b[0m\u001b[37m\u001b[0m \u001b[1m1s\u001b[0m 6ms/step\n",
      "\u001b[1m8/8\u001b[0m \u001b[32m━━━━━━━━━━━━━━━━━━━━\u001b[0m\u001b[37m\u001b[0m \u001b[1m0s\u001b[0m 2ms/step \n",
      "MSE: 20.616643286189294\n",
      "current_solution [128, 'tanh', 0.63, 64, 'tanh', 0.2, 64, 'relu', 1, 'linear', 0.0004, 390, 128]\n",
      "neighbor [128, 'tanh', 0.63, 64, 'tanh', 0.2, 176, 'relu', 1, 'linear', 0.0004, 390, 128]\n",
      "mse diff: 8.445157991878746\n",
      "accept new solution [128, 'tanh', 0.63, 64, 'tanh', 0.2, 176, 'relu', 1, 'linear', 0.0004, 390, 128]\n",
      "temp 19.019800997999997, mse 20.616643286189294, best_mse 6.6007878420274775\n",
      "lstm1_units: 128, activation: tanh, dropout1_rate: 0.63\n",
      "lstm2_units: 200, activation: tanh, dropout2_rate: 0.2\n",
      "dense1_units: 176, activation: relu\n",
      "dense2_units: 1, activation: linear\n",
      "optimizer_learning_rate: 0.0004, epochs: 390, batch_size: 128\n"
     ]
    },
    {
     "name": "stderr",
     "output_type": "stream",
     "text": [
      "/home/quentin/Desktop/Optimization/.venv/lib/python3.12/site-packages/keras/src/layers/rnn/rnn.py:204: UserWarning: Do not pass an `input_shape`/`input_dim` argument to a layer. When using Sequential models, prefer using an `Input(shape)` object as the first layer in the model instead.\n",
      "  super().__init__(**kwargs)\n"
     ]
    },
    {
     "name": "stdout",
     "output_type": "stream",
     "text": [
      "finito pipo\n",
      "\u001b[1m60/60\u001b[0m \u001b[32m━━━━━━━━━━━━━━━━━━━━\u001b[0m\u001b[37m\u001b[0m \u001b[1m1s\u001b[0m 7ms/step\n",
      "\u001b[1m8/8\u001b[0m \u001b[32m━━━━━━━━━━━━━━━━━━━━\u001b[0m\u001b[37m\u001b[0m \u001b[1m0s\u001b[0m 2ms/step \n",
      "MSE: 17.58831093345391\n",
      "current_solution [128, 'tanh', 0.63, 64, 'tanh', 0.2, 176, 'relu', 1, 'linear', 0.0004, 390, 128]\n",
      "neighbor [128, 'tanh', 0.63, 200, 'tanh', 0.2, 176, 'relu', 1, 'linear', 0.0004, 390, 128]\n",
      "mse diff: -3.028332352735383\n",
      "accept new solution [128, 'tanh', 0.63, 200, 'tanh', 0.2, 176, 'relu', 1, 'linear', 0.0004, 390, 128]\n",
      "temp 18.829602988019996, mse 17.58831093345391, best_mse 6.6007878420274775\n",
      "lstm1_units: 128, activation: tanh, dropout1_rate: 0.63\n",
      "lstm2_units: 200, activation: tanh, dropout2_rate: 0.2\n",
      "dense1_units: 176, activation: relu\n",
      "dense2_units: 1, activation: linear\n",
      "optimizer_learning_rate: 0.0004, epochs: 390, batch_size: 128\n"
     ]
    },
    {
     "name": "stderr",
     "output_type": "stream",
     "text": [
      "/home/quentin/Desktop/Optimization/.venv/lib/python3.12/site-packages/keras/src/layers/rnn/rnn.py:204: UserWarning: Do not pass an `input_shape`/`input_dim` argument to a layer. When using Sequential models, prefer using an `Input(shape)` object as the first layer in the model instead.\n",
      "  super().__init__(**kwargs)\n"
     ]
    },
    {
     "name": "stdout",
     "output_type": "stream",
     "text": [
      "finito pipo\n",
      "\u001b[1m60/60\u001b[0m \u001b[32m━━━━━━━━━━━━━━━━━━━━\u001b[0m\u001b[37m\u001b[0m \u001b[1m1s\u001b[0m 6ms/step\n",
      "\u001b[1m8/8\u001b[0m \u001b[32m━━━━━━━━━━━━━━━━━━━━\u001b[0m\u001b[37m\u001b[0m \u001b[1m0s\u001b[0m 3ms/step \n",
      "MSE: 17.594149418106323\n",
      "current_solution [128, 'tanh', 0.63, 200, 'tanh', 0.2, 176, 'relu', 1, 'linear', 0.0004, 390, 128]\n",
      "neighbor [128, 'tanh', 0.63, 200, 'tanh', 0.2, 176, 'relu', 1, 'linear', 0.0004, 390, 128]\n",
      "mse diff: 0.005838484652411324\n",
      "accept new solution [128, 'tanh', 0.63, 200, 'tanh', 0.2, 176, 'relu', 1, 'linear', 0.0004, 390, 128]\n",
      "temp 18.641306958139797, mse 17.594149418106323, best_mse 6.6007878420274775\n",
      "lstm1_units: 128, activation: tanh, dropout1_rate: 0.63\n",
      "lstm2_units: 200, activation: linear, dropout2_rate: 0.2\n",
      "dense1_units: 176, activation: relu\n",
      "dense2_units: 1, activation: linear\n",
      "optimizer_learning_rate: 0.0004, epochs: 390, batch_size: 128\n"
     ]
    },
    {
     "name": "stderr",
     "output_type": "stream",
     "text": [
      "/home/quentin/Desktop/Optimization/.venv/lib/python3.12/site-packages/keras/src/layers/rnn/rnn.py:204: UserWarning: Do not pass an `input_shape`/`input_dim` argument to a layer. When using Sequential models, prefer using an `Input(shape)` object as the first layer in the model instead.\n",
      "  super().__init__(**kwargs)\n"
     ]
    },
    {
     "name": "stdout",
     "output_type": "stream",
     "text": [
      "finito pipo\n",
      "\u001b[1m60/60\u001b[0m \u001b[32m━━━━━━━━━━━━━━━━━━━━\u001b[0m\u001b[37m\u001b[0m \u001b[1m1s\u001b[0m 10ms/step\n",
      "\u001b[1m8/8\u001b[0m \u001b[32m━━━━━━━━━━━━━━━━━━━━\u001b[0m\u001b[37m\u001b[0m \u001b[1m0s\u001b[0m 6ms/step \n",
      "MSE: 36.919537648441185\n",
      "current_solution [128, 'tanh', 0.63, 200, 'tanh', 0.2, 176, 'relu', 1, 'linear', 0.0004, 390, 128]\n",
      "neighbor [128, 'tanh', 0.63, 200, 'linear', 0.2, 176, 'relu', 1, 'linear', 0.0004, 390, 128]\n",
      "mse diff: 19.325388230334863\n",
      "temp 18.4548938885584, mse 17.594149418106323, best_mse 6.6007878420274775\n",
      "lstm1_units: 128, activation: tanh, dropout1_rate: 0.63\n",
      "lstm2_units: 200, activation: tanh, dropout2_rate: 0.2\n",
      "dense1_units: 176, activation: relu\n",
      "dense2_units: 1, activation: linear\n",
      "optimizer_learning_rate: 0.0004, epochs: 390, batch_size: 128\n"
     ]
    },
    {
     "name": "stderr",
     "output_type": "stream",
     "text": [
      "/home/quentin/Desktop/Optimization/.venv/lib/python3.12/site-packages/keras/src/layers/rnn/rnn.py:204: UserWarning: Do not pass an `input_shape`/`input_dim` argument to a layer. When using Sequential models, prefer using an `Input(shape)` object as the first layer in the model instead.\n",
      "  super().__init__(**kwargs)\n"
     ]
    },
    {
     "name": "stdout",
     "output_type": "stream",
     "text": [
      "finito pipo\n",
      "\u001b[1m60/60\u001b[0m \u001b[32m━━━━━━━━━━━━━━━━━━━━\u001b[0m\u001b[37m\u001b[0m \u001b[1m1s\u001b[0m 6ms/step\n",
      "\u001b[1m8/8\u001b[0m \u001b[32m━━━━━━━━━━━━━━━━━━━━\u001b[0m\u001b[37m\u001b[0m \u001b[1m0s\u001b[0m 3ms/step \n",
      "MSE: 12.856420315504074\n",
      "current_solution [128, 'tanh', 0.63, 200, 'tanh', 0.2, 176, 'relu', 1, 'linear', 0.0004, 390, 128]\n",
      "neighbor [128, 'tanh', 0.63, 200, 'tanh', 0.2, 176, 'relu', 1, 'linear', 0.0004, 390, 128]\n",
      "mse diff: -4.737729102602248\n",
      "accept new solution [128, 'tanh', 0.63, 200, 'tanh', 0.2, 176, 'relu', 1, 'linear', 0.0004, 390, 128]\n",
      "temp 18.270344949672815, mse 12.856420315504074, best_mse 6.6007878420274775\n",
      "lstm1_units: 128, activation: tanh, dropout1_rate: 0.63\n",
      "lstm2_units: 200, activation: tanh, dropout2_rate: 0.2\n",
      "dense1_units: 176, activation: relu\n",
      "dense2_units: 1, activation: linear\n",
      "optimizer_learning_rate: 0.0004, epochs: 390, batch_size: 128\n"
     ]
    },
    {
     "name": "stderr",
     "output_type": "stream",
     "text": [
      "/home/quentin/Desktop/Optimization/.venv/lib/python3.12/site-packages/keras/src/layers/rnn/rnn.py:204: UserWarning: Do not pass an `input_shape`/`input_dim` argument to a layer. When using Sequential models, prefer using an `Input(shape)` object as the first layer in the model instead.\n",
      "  super().__init__(**kwargs)\n"
     ]
    },
    {
     "name": "stdout",
     "output_type": "stream",
     "text": [
      "finito pipo\n",
      "\u001b[1m60/60\u001b[0m \u001b[32m━━━━━━━━━━━━━━━━━━━━\u001b[0m\u001b[37m\u001b[0m \u001b[1m1s\u001b[0m 7ms/step\n",
      "\u001b[1m8/8\u001b[0m \u001b[32m━━━━━━━━━━━━━━━━━━━━\u001b[0m\u001b[37m\u001b[0m \u001b[1m0s\u001b[0m 3ms/step \n",
      "MSE: 13.340038064758806\n",
      "current_solution [128, 'tanh', 0.63, 200, 'tanh', 0.2, 176, 'relu', 1, 'linear', 0.0004, 390, 128]\n",
      "neighbor [128, 'tanh', 0.63, 200, 'tanh', 0.2, 176, 'relu', 1, 'linear', 0.0004, 390, 128]\n",
      "mse diff: 0.4836177492547318\n",
      "accept new solution [128, 'tanh', 0.63, 200, 'tanh', 0.2, 176, 'relu', 1, 'linear', 0.0004, 390, 128]\n",
      "temp 18.087641500176087, mse 13.340038064758806, best_mse 6.6007878420274775\n",
      "lstm1_units: 128, activation: tanh, dropout1_rate: 0.63\n",
      "lstm2_units: 200, activation: tanh, dropout2_rate: 0.2\n",
      "dense1_units: 176, activation: relu\n",
      "dense2_units: 1, activation: linear\n",
      "optimizer_learning_rate: 0.0004, epochs: 390, batch_size: 128\n"
     ]
    },
    {
     "name": "stderr",
     "output_type": "stream",
     "text": [
      "/home/quentin/Desktop/Optimization/.venv/lib/python3.12/site-packages/keras/src/layers/rnn/rnn.py:204: UserWarning: Do not pass an `input_shape`/`input_dim` argument to a layer. When using Sequential models, prefer using an `Input(shape)` object as the first layer in the model instead.\n",
      "  super().__init__(**kwargs)\n"
     ]
    },
    {
     "name": "stdout",
     "output_type": "stream",
     "text": [
      "finito pipo\n",
      "\u001b[1m60/60\u001b[0m \u001b[32m━━━━━━━━━━━━━━━━━━━━\u001b[0m\u001b[37m\u001b[0m \u001b[1m1s\u001b[0m 7ms/step\n",
      "\u001b[1m8/8\u001b[0m \u001b[32m━━━━━━━━━━━━━━━━━━━━\u001b[0m\u001b[37m\u001b[0m \u001b[1m0s\u001b[0m 2ms/step \n",
      "MSE: 23.69390123416531\n",
      "current_solution [128, 'tanh', 0.63, 200, 'tanh', 0.2, 176, 'relu', 1, 'linear', 0.0004, 390, 128]\n",
      "neighbor [128, 'tanh', 0.63, 200, 'tanh', 0.2, 176, 'relu', 1, 'linear', 0.0004, 390, 128]\n",
      "mse diff: 10.353863169406504\n",
      "accept new solution [128, 'tanh', 0.63, 200, 'tanh', 0.2, 176, 'relu', 1, 'linear', 0.0004, 390, 128]\n",
      "temp 17.906765085174325, mse 23.69390123416531, best_mse 6.6007878420274775\n",
      "lstm1_units: 128, activation: tanh, dropout1_rate: 0.17\n",
      "lstm2_units: 200, activation: tanh, dropout2_rate: 0.2\n",
      "dense1_units: 176, activation: relu\n",
      "dense2_units: 1, activation: linear\n",
      "optimizer_learning_rate: 0.0004, epochs: 390, batch_size: 128\n"
     ]
    },
    {
     "name": "stderr",
     "output_type": "stream",
     "text": [
      "/home/quentin/Desktop/Optimization/.venv/lib/python3.12/site-packages/keras/src/layers/rnn/rnn.py:204: UserWarning: Do not pass an `input_shape`/`input_dim` argument to a layer. When using Sequential models, prefer using an `Input(shape)` object as the first layer in the model instead.\n",
      "  super().__init__(**kwargs)\n"
     ]
    },
    {
     "name": "stdout",
     "output_type": "stream",
     "text": [
      "finito pipo\n",
      "\u001b[1m60/60\u001b[0m \u001b[32m━━━━━━━━━━━━━━━━━━━━\u001b[0m\u001b[37m\u001b[0m \u001b[1m1s\u001b[0m 7ms/step\n",
      "\u001b[1m8/8\u001b[0m \u001b[32m━━━━━━━━━━━━━━━━━━━━\u001b[0m\u001b[37m\u001b[0m \u001b[1m0s\u001b[0m 3ms/step \n",
      "MSE: 11.393289256936187\n",
      "current_solution [128, 'tanh', 0.63, 200, 'tanh', 0.2, 176, 'relu', 1, 'linear', 0.0004, 390, 128]\n",
      "neighbor [128, 'tanh', 0.17, 200, 'tanh', 0.2, 176, 'relu', 1, 'linear', 0.0004, 390, 128]\n",
      "mse diff: -12.300611977229122\n",
      "accept new solution [128, 'tanh', 0.17, 200, 'tanh', 0.2, 176, 'relu', 1, 'linear', 0.0004, 390, 128]\n",
      "temp 17.727697434322582, mse 11.393289256936187, best_mse 6.6007878420274775\n",
      "lstm1_units: 128, activation: tanh, dropout1_rate: 0.17\n",
      "lstm2_units: 200, activation: tanh, dropout2_rate: 0.2\n",
      "dense1_units: 176, activation: relu\n",
      "dense2_units: 1, activation: linear\n",
      "optimizer_learning_rate: 0.0005, epochs: 390, batch_size: 128\n"
     ]
    },
    {
     "name": "stderr",
     "output_type": "stream",
     "text": [
      "/home/quentin/Desktop/Optimization/.venv/lib/python3.12/site-packages/keras/src/layers/rnn/rnn.py:204: UserWarning: Do not pass an `input_shape`/`input_dim` argument to a layer. When using Sequential models, prefer using an `Input(shape)` object as the first layer in the model instead.\n",
      "  super().__init__(**kwargs)\n"
     ]
    },
    {
     "name": "stdout",
     "output_type": "stream",
     "text": [
      "finito pipo\n",
      "\u001b[1m60/60\u001b[0m \u001b[32m━━━━━━━━━━━━━━━━━━━━\u001b[0m\u001b[37m\u001b[0m \u001b[1m1s\u001b[0m 8ms/step\n",
      "\u001b[1m8/8\u001b[0m \u001b[32m━━━━━━━━━━━━━━━━━━━━\u001b[0m\u001b[37m\u001b[0m \u001b[1m0s\u001b[0m 3ms/step \n",
      "MSE: 7.721775656222189\n",
      "current_solution [128, 'tanh', 0.17, 200, 'tanh', 0.2, 176, 'relu', 1, 'linear', 0.0004, 390, 128]\n",
      "neighbor [128, 'tanh', 0.17, 200, 'tanh', 0.2, 176, 'relu', 1, 'linear', 0.0005, 390, 128]\n",
      "mse diff: -3.6715136007139986\n",
      "accept new solution [128, 'tanh', 0.17, 200, 'tanh', 0.2, 176, 'relu', 1, 'linear', 0.0005, 390, 128]\n",
      "temp 17.550420459979357, mse 7.721775656222189, best_mse 6.6007878420274775\n",
      "lstm1_units: 128, activation: tanh, dropout1_rate: 0.17\n",
      "lstm2_units: 200, activation: tanh, dropout2_rate: 0.2\n",
      "dense1_units: 176, activation: relu\n",
      "dense2_units: 1, activation: linear\n",
      "optimizer_learning_rate: 0.0005, epochs: 300, batch_size: 128\n"
     ]
    },
    {
     "name": "stderr",
     "output_type": "stream",
     "text": [
      "/home/quentin/Desktop/Optimization/.venv/lib/python3.12/site-packages/keras/src/layers/rnn/rnn.py:204: UserWarning: Do not pass an `input_shape`/`input_dim` argument to a layer. When using Sequential models, prefer using an `Input(shape)` object as the first layer in the model instead.\n",
      "  super().__init__(**kwargs)\n"
     ]
    },
    {
     "name": "stdout",
     "output_type": "stream",
     "text": [
      "finito pipo\n",
      "\u001b[1m60/60\u001b[0m \u001b[32m━━━━━━━━━━━━━━━━━━━━\u001b[0m\u001b[37m\u001b[0m \u001b[1m1s\u001b[0m 7ms/step\n",
      "\u001b[1m8/8\u001b[0m \u001b[32m━━━━━━━━━━━━━━━━━━━━\u001b[0m\u001b[37m\u001b[0m \u001b[1m0s\u001b[0m 2ms/step \n",
      "MSE: 10.029658369240053\n",
      "current_solution [128, 'tanh', 0.17, 200, 'tanh', 0.2, 176, 'relu', 1, 'linear', 0.0005, 390, 128]\n",
      "neighbor [128, 'tanh', 0.17, 200, 'tanh', 0.2, 176, 'relu', 1, 'linear', 0.0005, 300, 128]\n",
      "mse diff: 2.3078827130178645\n",
      "accept new solution [128, 'tanh', 0.17, 200, 'tanh', 0.2, 176, 'relu', 1, 'linear', 0.0005, 300, 128]\n",
      "temp 17.374916255379564, mse 10.029658369240053, best_mse 6.6007878420274775\n",
      "lstm1_units: 128, activation: tanh, dropout1_rate: 0.17\n",
      "lstm2_units: 200, activation: tanh, dropout2_rate: 0.2\n",
      "dense1_units: 176, activation: relu\n",
      "dense2_units: 1, activation: linear\n",
      "optimizer_learning_rate: 0.0005, epochs: 230, batch_size: 128\n"
     ]
    },
    {
     "name": "stderr",
     "output_type": "stream",
     "text": [
      "/home/quentin/Desktop/Optimization/.venv/lib/python3.12/site-packages/keras/src/layers/rnn/rnn.py:204: UserWarning: Do not pass an `input_shape`/`input_dim` argument to a layer. When using Sequential models, prefer using an `Input(shape)` object as the first layer in the model instead.\n",
      "  super().__init__(**kwargs)\n"
     ]
    },
    {
     "name": "stdout",
     "output_type": "stream",
     "text": [
      "finito pipo\n",
      "\u001b[1m60/60\u001b[0m \u001b[32m━━━━━━━━━━━━━━━━━━━━\u001b[0m\u001b[37m\u001b[0m \u001b[1m1s\u001b[0m 6ms/step\n",
      "\u001b[1m8/8\u001b[0m \u001b[32m━━━━━━━━━━━━━━━━━━━━\u001b[0m\u001b[37m\u001b[0m \u001b[1m0s\u001b[0m 2ms/step \n",
      "MSE: 16.830901694726755\n",
      "current_solution [128, 'tanh', 0.17, 200, 'tanh', 0.2, 176, 'relu', 1, 'linear', 0.0005, 300, 128]\n",
      "neighbor [128, 'tanh', 0.17, 200, 'tanh', 0.2, 176, 'relu', 1, 'linear', 0.0005, 230, 128]\n",
      "mse diff: 6.801243325486702\n",
      "accept new solution [128, 'tanh', 0.17, 200, 'tanh', 0.2, 176, 'relu', 1, 'linear', 0.0005, 230, 128]\n",
      "temp 17.201167092825767, mse 16.830901694726755, best_mse 6.6007878420274775\n",
      "lstm1_units: 224, activation: tanh, dropout1_rate: 0.17\n",
      "lstm2_units: 200, activation: tanh, dropout2_rate: 0.2\n",
      "dense1_units: 176, activation: relu\n",
      "dense2_units: 1, activation: linear\n",
      "optimizer_learning_rate: 0.0005, epochs: 230, batch_size: 128\n"
     ]
    },
    {
     "name": "stderr",
     "output_type": "stream",
     "text": [
      "/home/quentin/Desktop/Optimization/.venv/lib/python3.12/site-packages/keras/src/layers/rnn/rnn.py:204: UserWarning: Do not pass an `input_shape`/`input_dim` argument to a layer. When using Sequential models, prefer using an `Input(shape)` object as the first layer in the model instead.\n",
      "  super().__init__(**kwargs)\n"
     ]
    },
    {
     "name": "stdout",
     "output_type": "stream",
     "text": [
      "finito pipo\n",
      "\u001b[1m60/60\u001b[0m \u001b[32m━━━━━━━━━━━━━━━━━━━━\u001b[0m\u001b[37m\u001b[0m \u001b[1m1s\u001b[0m 6ms/step\n",
      "\u001b[1m8/8\u001b[0m \u001b[32m━━━━━━━━━━━━━━━━━━━━\u001b[0m\u001b[37m\u001b[0m \u001b[1m0s\u001b[0m 3ms/step \n",
      "MSE: 7.327015638757966\n",
      "current_solution [128, 'tanh', 0.17, 200, 'tanh', 0.2, 176, 'relu', 1, 'linear', 0.0005, 230, 128]\n",
      "neighbor [224, 'tanh', 0.17, 200, 'tanh', 0.2, 176, 'relu', 1, 'linear', 0.0005, 230, 128]\n",
      "mse diff: -9.503886055968788\n",
      "accept new solution [224, 'tanh', 0.17, 200, 'tanh', 0.2, 176, 'relu', 1, 'linear', 0.0005, 230, 128]\n",
      "temp 17.02915542189751, mse 7.327015638757966, best_mse 6.6007878420274775\n",
      "lstm1_units: 224, activation: tanh, dropout1_rate: 0.17\n",
      "lstm2_units: 200, activation: tanh, dropout2_rate: 0.2\n",
      "dense1_units: 176, activation: relu\n",
      "dense2_units: 1, activation: linear\n",
      "optimizer_learning_rate: 0.0005, epochs: 230, batch_size: 128\n"
     ]
    },
    {
     "name": "stderr",
     "output_type": "stream",
     "text": [
      "/home/quentin/Desktop/Optimization/.venv/lib/python3.12/site-packages/keras/src/layers/rnn/rnn.py:204: UserWarning: Do not pass an `input_shape`/`input_dim` argument to a layer. When using Sequential models, prefer using an `Input(shape)` object as the first layer in the model instead.\n",
      "  super().__init__(**kwargs)\n"
     ]
    },
    {
     "name": "stdout",
     "output_type": "stream",
     "text": [
      "finito pipo\n",
      "\u001b[1m60/60\u001b[0m \u001b[32m━━━━━━━━━━━━━━━━━━━━\u001b[0m\u001b[37m\u001b[0m \u001b[1m1s\u001b[0m 7ms/step\n",
      "\u001b[1m8/8\u001b[0m \u001b[32m━━━━━━━━━━━━━━━━━━━━\u001b[0m\u001b[37m\u001b[0m \u001b[1m0s\u001b[0m 2ms/step \n",
      "MSE: 16.103851201370084\n",
      "current_solution [224, 'tanh', 0.17, 200, 'tanh', 0.2, 176, 'relu', 1, 'linear', 0.0005, 230, 128]\n",
      "neighbor [224, 'tanh', 0.17, 200, 'tanh', 0.2, 176, 'relu', 1, 'linear', 0.0005, 230, 128]\n",
      "mse diff: 8.776835562612117\n",
      "accept new solution [224, 'tanh', 0.17, 200, 'tanh', 0.2, 176, 'relu', 1, 'linear', 0.0005, 230, 128]\n",
      "temp 16.858863867678537, mse 16.103851201370084, best_mse 6.6007878420274775\n",
      "lstm1_units: 224, activation: hard_sigmoid, dropout1_rate: 0.17\n",
      "lstm2_units: 200, activation: tanh, dropout2_rate: 0.2\n",
      "dense1_units: 176, activation: relu\n",
      "dense2_units: 1, activation: linear\n",
      "optimizer_learning_rate: 0.0005, epochs: 230, batch_size: 128\n"
     ]
    },
    {
     "name": "stderr",
     "output_type": "stream",
     "text": [
      "/home/quentin/Desktop/Optimization/.venv/lib/python3.12/site-packages/keras/src/layers/rnn/rnn.py:204: UserWarning: Do not pass an `input_shape`/`input_dim` argument to a layer. When using Sequential models, prefer using an `Input(shape)` object as the first layer in the model instead.\n",
      "  super().__init__(**kwargs)\n"
     ]
    },
    {
     "name": "stdout",
     "output_type": "stream",
     "text": [
      "finito pipo\n",
      "\u001b[1m60/60\u001b[0m \u001b[32m━━━━━━━━━━━━━━━━━━━━\u001b[0m\u001b[37m\u001b[0m \u001b[1m1s\u001b[0m 11ms/step\n",
      "\u001b[1m8/8\u001b[0m \u001b[32m━━━━━━━━━━━━━━━━━━━━\u001b[0m\u001b[37m\u001b[0m \u001b[1m0s\u001b[0m 6ms/step \n",
      "MSE: 65.21204517356479\n",
      "current_solution [224, 'tanh', 0.17, 200, 'tanh', 0.2, 176, 'relu', 1, 'linear', 0.0005, 230, 128]\n",
      "neighbor [224, 'hard_sigmoid', 0.17, 200, 'tanh', 0.2, 176, 'relu', 1, 'linear', 0.0005, 230, 128]\n",
      "mse diff: 49.108193972194705\n",
      "temp 16.690275229001752, mse 16.103851201370084, best_mse 6.6007878420274775\n",
      "lstm1_units: 224, activation: relu, dropout1_rate: 0.17\n",
      "lstm2_units: 200, activation: tanh, dropout2_rate: 0.2\n",
      "dense1_units: 176, activation: relu\n",
      "dense2_units: 1, activation: linear\n",
      "optimizer_learning_rate: 0.0005, epochs: 230, batch_size: 128\n"
     ]
    },
    {
     "name": "stderr",
     "output_type": "stream",
     "text": [
      "/home/quentin/Desktop/Optimization/.venv/lib/python3.12/site-packages/keras/src/layers/rnn/rnn.py:204: UserWarning: Do not pass an `input_shape`/`input_dim` argument to a layer. When using Sequential models, prefer using an `Input(shape)` object as the first layer in the model instead.\n",
      "  super().__init__(**kwargs)\n"
     ]
    },
    {
     "name": "stdout",
     "output_type": "stream",
     "text": [
      "finito pipo\n",
      "\u001b[1m60/60\u001b[0m \u001b[32m━━━━━━━━━━━━━━━━━━━━\u001b[0m\u001b[37m\u001b[0m \u001b[1m1s\u001b[0m 11ms/step\n",
      "\u001b[1m8/8\u001b[0m \u001b[32m━━━━━━━━━━━━━━━━━━━━\u001b[0m\u001b[37m\u001b[0m \u001b[1m0s\u001b[0m 7ms/step \n",
      "MSE: 5.411398291126155\n",
      "current_solution [224, 'tanh', 0.17, 200, 'tanh', 0.2, 176, 'relu', 1, 'linear', 0.0005, 230, 128]\n",
      "neighbor [224, 'relu', 0.17, 200, 'tanh', 0.2, 176, 'relu', 1, 'linear', 0.0005, 230, 128]\n",
      "mse diff: -10.69245291024393\n",
      "accept new solution [224, 'relu', 0.17, 200, 'tanh', 0.2, 176, 'relu', 1, 'linear', 0.0005, 230, 128]\n",
      "better solution\n",
      "temp 16.523372476711735, mse 5.411398291126155, best_mse 5.411398291126155\n",
      "lstm1_units: 224, activation: relu, dropout1_rate: 0.17\n",
      "lstm2_units: 200, activation: tanh, dropout2_rate: 0.2\n",
      "dense1_units: 176, activation: relu\n",
      "dense2_units: 1, activation: linear\n",
      "optimizer_learning_rate: 0.0005, epochs: 220, batch_size: 128\n"
     ]
    },
    {
     "name": "stderr",
     "output_type": "stream",
     "text": [
      "/home/quentin/Desktop/Optimization/.venv/lib/python3.12/site-packages/keras/src/layers/rnn/rnn.py:204: UserWarning: Do not pass an `input_shape`/`input_dim` argument to a layer. When using Sequential models, prefer using an `Input(shape)` object as the first layer in the model instead.\n",
      "  super().__init__(**kwargs)\n"
     ]
    },
    {
     "name": "stdout",
     "output_type": "stream",
     "text": [
      "finito pipo\n",
      "\u001b[1m60/60\u001b[0m \u001b[32m━━━━━━━━━━━━━━━━━━━━\u001b[0m\u001b[37m\u001b[0m \u001b[1m1s\u001b[0m 11ms/step\n",
      "\u001b[1m8/8\u001b[0m \u001b[32m━━━━━━━━━━━━━━━━━━━━\u001b[0m\u001b[37m\u001b[0m \u001b[1m0s\u001b[0m 6ms/step \n",
      "MSE: 13.915442373544183\n",
      "current_solution [224, 'relu', 0.17, 200, 'tanh', 0.2, 176, 'relu', 1, 'linear', 0.0005, 230, 128]\n",
      "neighbor [224, 'relu', 0.17, 200, 'tanh', 0.2, 176, 'relu', 1, 'linear', 0.0005, 220, 128]\n",
      "mse diff: 8.504044082418027\n",
      "accept new solution [224, 'relu', 0.17, 200, 'tanh', 0.2, 176, 'relu', 1, 'linear', 0.0005, 220, 128]\n",
      "temp 16.35813875194462, mse 13.915442373544183, best_mse 5.411398291126155\n",
      "lstm1_units: 224, activation: relu, dropout1_rate: 0.17\n",
      "lstm2_units: 64, activation: tanh, dropout2_rate: 0.2\n",
      "dense1_units: 176, activation: relu\n",
      "dense2_units: 1, activation: linear\n",
      "optimizer_learning_rate: 0.0005, epochs: 220, batch_size: 128\n"
     ]
    },
    {
     "name": "stderr",
     "output_type": "stream",
     "text": [
      "/home/quentin/Desktop/Optimization/.venv/lib/python3.12/site-packages/keras/src/layers/rnn/rnn.py:204: UserWarning: Do not pass an `input_shape`/`input_dim` argument to a layer. When using Sequential models, prefer using an `Input(shape)` object as the first layer in the model instead.\n",
      "  super().__init__(**kwargs)\n"
     ]
    },
    {
     "name": "stdout",
     "output_type": "stream",
     "text": [
      "finito pipo\n",
      "\u001b[1m60/60\u001b[0m \u001b[32m━━━━━━━━━━━━━━━━━━━━\u001b[0m\u001b[37m\u001b[0m \u001b[1m1s\u001b[0m 11ms/step\n",
      "\u001b[1m8/8\u001b[0m \u001b[32m━━━━━━━━━━━━━━━━━━━━\u001b[0m\u001b[37m\u001b[0m \u001b[1m0s\u001b[0m 6ms/step \n",
      "MSE: 5.913791892291626\n",
      "current_solution [224, 'relu', 0.17, 200, 'tanh', 0.2, 176, 'relu', 1, 'linear', 0.0005, 220, 128]\n",
      "neighbor [224, 'relu', 0.17, 64, 'tanh', 0.2, 176, 'relu', 1, 'linear', 0.0005, 220, 128]\n",
      "mse diff: -8.001650481252558\n",
      "accept new solution [224, 'relu', 0.17, 64, 'tanh', 0.2, 176, 'relu', 1, 'linear', 0.0005, 220, 128]\n",
      "temp 16.194557364425172, mse 5.913791892291626, best_mse 5.411398291126155\n",
      "lstm1_units: 224, activation: relu, dropout1_rate: 0.79\n",
      "lstm2_units: 64, activation: tanh, dropout2_rate: 0.2\n",
      "dense1_units: 176, activation: relu\n",
      "dense2_units: 1, activation: linear\n",
      "optimizer_learning_rate: 0.0005, epochs: 220, batch_size: 128\n"
     ]
    },
    {
     "name": "stderr",
     "output_type": "stream",
     "text": [
      "/home/quentin/Desktop/Optimization/.venv/lib/python3.12/site-packages/keras/src/layers/rnn/rnn.py:204: UserWarning: Do not pass an `input_shape`/`input_dim` argument to a layer. When using Sequential models, prefer using an `Input(shape)` object as the first layer in the model instead.\n",
      "  super().__init__(**kwargs)\n"
     ]
    },
    {
     "name": "stdout",
     "output_type": "stream",
     "text": [
      "finito pipo\n",
      "\u001b[1m60/60\u001b[0m \u001b[32m━━━━━━━━━━━━━━━━━━━━\u001b[0m\u001b[37m\u001b[0m \u001b[1m1s\u001b[0m 10ms/step\n",
      "\u001b[1m8/8\u001b[0m \u001b[32m━━━━━━━━━━━━━━━━━━━━\u001b[0m\u001b[37m\u001b[0m \u001b[1m0s\u001b[0m 5ms/step \n",
      "MSE: 43.124800511722\n",
      "current_solution [224, 'relu', 0.17, 64, 'tanh', 0.2, 176, 'relu', 1, 'linear', 0.0005, 220, 128]\n",
      "neighbor [224, 'relu', 0.79, 64, 'tanh', 0.2, 176, 'relu', 1, 'linear', 0.0005, 220, 128]\n",
      "mse diff: 37.21100861943037\n",
      "temp 16.03261179078092, mse 5.913791892291626, best_mse 5.411398291126155\n",
      "lstm1_units: 112, activation: relu, dropout1_rate: 0.17\n",
      "lstm2_units: 64, activation: tanh, dropout2_rate: 0.2\n",
      "dense1_units: 176, activation: relu\n",
      "dense2_units: 1, activation: linear\n",
      "optimizer_learning_rate: 0.0005, epochs: 220, batch_size: 128\n"
     ]
    },
    {
     "name": "stderr",
     "output_type": "stream",
     "text": [
      "/home/quentin/Desktop/Optimization/.venv/lib/python3.12/site-packages/keras/src/layers/rnn/rnn.py:204: UserWarning: Do not pass an `input_shape`/`input_dim` argument to a layer. When using Sequential models, prefer using an `Input(shape)` object as the first layer in the model instead.\n",
      "  super().__init__(**kwargs)\n"
     ]
    },
    {
     "name": "stdout",
     "output_type": "stream",
     "text": [
      "finito pipo\n",
      "\u001b[1m60/60\u001b[0m \u001b[32m━━━━━━━━━━━━━━━━━━━━\u001b[0m\u001b[37m\u001b[0m \u001b[1m1s\u001b[0m 10ms/step\n",
      "\u001b[1m8/8\u001b[0m \u001b[32m━━━━━━━━━━━━━━━━━━━━\u001b[0m\u001b[37m\u001b[0m \u001b[1m0s\u001b[0m 6ms/step \n",
      "MSE: 12.434772819344527\n",
      "current_solution [224, 'relu', 0.17, 64, 'tanh', 0.2, 176, 'relu', 1, 'linear', 0.0005, 220, 128]\n",
      "neighbor [112, 'relu', 0.17, 64, 'tanh', 0.2, 176, 'relu', 1, 'linear', 0.0005, 220, 128]\n",
      "mse diff: 6.520980927052901\n",
      "temp 15.87228567287311, mse 5.913791892291626, best_mse 5.411398291126155\n",
      "lstm1_units: 224, activation: relu, dropout1_rate: 0.17\n",
      "lstm2_units: 64, activation: tanh, dropout2_rate: 0.2\n",
      "dense1_units: 176, activation: relu\n",
      "dense2_units: 1, activation: linear\n",
      "optimizer_learning_rate: 0.0005, epochs: 220, batch_size: 128\n"
     ]
    },
    {
     "name": "stderr",
     "output_type": "stream",
     "text": [
      "/home/quentin/Desktop/Optimization/.venv/lib/python3.12/site-packages/keras/src/layers/rnn/rnn.py:204: UserWarning: Do not pass an `input_shape`/`input_dim` argument to a layer. When using Sequential models, prefer using an `Input(shape)` object as the first layer in the model instead.\n",
      "  super().__init__(**kwargs)\n"
     ]
    },
    {
     "name": "stdout",
     "output_type": "stream",
     "text": [
      "finito pipo\n",
      "\u001b[1m60/60\u001b[0m \u001b[32m━━━━━━━━━━━━━━━━━━━━\u001b[0m\u001b[37m\u001b[0m \u001b[1m1s\u001b[0m 11ms/step\n",
      "\u001b[1m8/8\u001b[0m \u001b[32m━━━━━━━━━━━━━━━━━━━━\u001b[0m\u001b[37m\u001b[0m \u001b[1m0s\u001b[0m 7ms/step \n",
      "MSE: 10.91378162808862\n",
      "current_solution [224, 'relu', 0.17, 64, 'tanh', 0.2, 176, 'relu', 1, 'linear', 0.0005, 220, 128]\n",
      "neighbor [224, 'relu', 0.17, 64, 'tanh', 0.2, 176, 'relu', 1, 'linear', 0.0005, 220, 128]\n",
      "mse diff: 4.999989735796993\n",
      "temp 15.713562816144378, mse 5.913791892291626, best_mse 5.411398291126155\n",
      "lstm1_units: 224, activation: relu, dropout1_rate: 0.17\n",
      "lstm2_units: 64, activation: tanh, dropout2_rate: 0.2\n",
      "dense1_units: 176, activation: relu\n",
      "dense2_units: 1, activation: linear\n",
      "optimizer_learning_rate: 0.0005, epochs: 220, batch_size: 128\n"
     ]
    },
    {
     "name": "stderr",
     "output_type": "stream",
     "text": [
      "/home/quentin/Desktop/Optimization/.venv/lib/python3.12/site-packages/keras/src/layers/rnn/rnn.py:204: UserWarning: Do not pass an `input_shape`/`input_dim` argument to a layer. When using Sequential models, prefer using an `Input(shape)` object as the first layer in the model instead.\n",
      "  super().__init__(**kwargs)\n"
     ]
    },
    {
     "name": "stdout",
     "output_type": "stream",
     "text": [
      "finito pipo\n",
      "\u001b[1m60/60\u001b[0m \u001b[32m━━━━━━━━━━━━━━━━━━━━\u001b[0m\u001b[37m\u001b[0m \u001b[1m1s\u001b[0m 11ms/step\n",
      "\u001b[1m8/8\u001b[0m \u001b[32m━━━━━━━━━━━━━━━━━━━━\u001b[0m\u001b[37m\u001b[0m \u001b[1m0s\u001b[0m 7ms/step \n",
      "MSE: 5.5791772264517725\n",
      "current_solution [224, 'relu', 0.17, 64, 'tanh', 0.2, 176, 'relu', 1, 'linear', 0.0005, 220, 128]\n",
      "neighbor [224, 'relu', 0.17, 64, 'tanh', 0.2, 176, 'relu', 1, 'linear', 0.0005, 220, 128]\n",
      "mse diff: -0.33461466583985366\n",
      "accept new solution [224, 'relu', 0.17, 64, 'tanh', 0.2, 176, 'relu', 1, 'linear', 0.0005, 220, 128]\n",
      "temp 15.556427187982935, mse 5.5791772264517725, best_mse 5.411398291126155\n",
      "lstm1_units: 224, activation: relu, dropout1_rate: 0.5\n",
      "lstm2_units: 64, activation: tanh, dropout2_rate: 0.2\n",
      "dense1_units: 176, activation: relu\n",
      "dense2_units: 1, activation: linear\n",
      "optimizer_learning_rate: 0.0005, epochs: 220, batch_size: 128\n"
     ]
    },
    {
     "name": "stderr",
     "output_type": "stream",
     "text": [
      "/home/quentin/Desktop/Optimization/.venv/lib/python3.12/site-packages/keras/src/layers/rnn/rnn.py:204: UserWarning: Do not pass an `input_shape`/`input_dim` argument to a layer. When using Sequential models, prefer using an `Input(shape)` object as the first layer in the model instead.\n",
      "  super().__init__(**kwargs)\n"
     ]
    },
    {
     "name": "stdout",
     "output_type": "stream",
     "text": [
      "finito pipo\n",
      "\u001b[1m60/60\u001b[0m \u001b[32m━━━━━━━━━━━━━━━━━━━━\u001b[0m\u001b[37m\u001b[0m \u001b[1m1s\u001b[0m 10ms/step\n",
      "\u001b[1m8/8\u001b[0m \u001b[32m━━━━━━━━━━━━━━━━━━━━\u001b[0m\u001b[37m\u001b[0m \u001b[1m0s\u001b[0m 6ms/step \n",
      "MSE: 13.34666613413706\n",
      "current_solution [224, 'relu', 0.17, 64, 'tanh', 0.2, 176, 'relu', 1, 'linear', 0.0005, 220, 128]\n",
      "neighbor [224, 'relu', 0.5, 64, 'tanh', 0.2, 176, 'relu', 1, 'linear', 0.0005, 220, 128]\n",
      "mse diff: 7.767488907685287\n",
      "temp 15.400862916103106, mse 5.5791772264517725, best_mse 5.411398291126155\n",
      "lstm1_units: 224, activation: relu, dropout1_rate: 0.17\n",
      "lstm2_units: 136, activation: tanh, dropout2_rate: 0.2\n",
      "dense1_units: 176, activation: relu\n",
      "dense2_units: 1, activation: linear\n",
      "optimizer_learning_rate: 0.0005, epochs: 220, batch_size: 128\n"
     ]
    },
    {
     "name": "stderr",
     "output_type": "stream",
     "text": [
      "/home/quentin/Desktop/Optimization/.venv/lib/python3.12/site-packages/keras/src/layers/rnn/rnn.py:204: UserWarning: Do not pass an `input_shape`/`input_dim` argument to a layer. When using Sequential models, prefer using an `Input(shape)` object as the first layer in the model instead.\n",
      "  super().__init__(**kwargs)\n"
     ]
    },
    {
     "name": "stdout",
     "output_type": "stream",
     "text": [
      "finito pipo\n",
      "\u001b[1m60/60\u001b[0m \u001b[32m━━━━━━━━━━━━━━━━━━━━\u001b[0m\u001b[37m\u001b[0m \u001b[1m1s\u001b[0m 11ms/step\n",
      "\u001b[1m8/8\u001b[0m \u001b[32m━━━━━━━━━━━━━━━━━━━━\u001b[0m\u001b[37m\u001b[0m \u001b[1m0s\u001b[0m 6ms/step \n",
      "MSE: 3.747674074094348\n",
      "current_solution [224, 'relu', 0.17, 64, 'tanh', 0.2, 176, 'relu', 1, 'linear', 0.0005, 220, 128]\n",
      "neighbor [224, 'relu', 0.17, 136, 'tanh', 0.2, 176, 'relu', 1, 'linear', 0.0005, 220, 128]\n",
      "mse diff: -1.8315031523574246\n",
      "accept new solution [224, 'relu', 0.17, 136, 'tanh', 0.2, 176, 'relu', 1, 'linear', 0.0005, 220, 128]\n",
      "better solution\n",
      "temp 15.246854286942074, mse 3.747674074094348, best_mse 3.747674074094348\n",
      "lstm1_units: 104, activation: relu, dropout1_rate: 0.17\n",
      "lstm2_units: 136, activation: tanh, dropout2_rate: 0.2\n",
      "dense1_units: 176, activation: relu\n",
      "dense2_units: 1, activation: linear\n",
      "optimizer_learning_rate: 0.0005, epochs: 220, batch_size: 128\n"
     ]
    },
    {
     "name": "stderr",
     "output_type": "stream",
     "text": [
      "/home/quentin/Desktop/Optimization/.venv/lib/python3.12/site-packages/keras/src/layers/rnn/rnn.py:204: UserWarning: Do not pass an `input_shape`/`input_dim` argument to a layer. When using Sequential models, prefer using an `Input(shape)` object as the first layer in the model instead.\n",
      "  super().__init__(**kwargs)\n"
     ]
    },
    {
     "name": "stdout",
     "output_type": "stream",
     "text": [
      "finito pipo\n",
      "\u001b[1m60/60\u001b[0m \u001b[32m━━━━━━━━━━━━━━━━━━━━\u001b[0m\u001b[37m\u001b[0m \u001b[1m1s\u001b[0m 10ms/step\n",
      "\u001b[1m8/8\u001b[0m \u001b[32m━━━━━━━━━━━━━━━━━━━━\u001b[0m\u001b[37m\u001b[0m \u001b[1m0s\u001b[0m 6ms/step \n",
      "MSE: 8.548426797531937\n",
      "current_solution [224, 'relu', 0.17, 136, 'tanh', 0.2, 176, 'relu', 1, 'linear', 0.0005, 220, 128]\n",
      "neighbor [104, 'relu', 0.17, 136, 'tanh', 0.2, 176, 'relu', 1, 'linear', 0.0005, 220, 128]\n",
      "mse diff: 4.800752723437588\n",
      "accept new solution [104, 'relu', 0.17, 136, 'tanh', 0.2, 176, 'relu', 1, 'linear', 0.0005, 220, 128]\n",
      "temp 15.094385744072653, mse 8.548426797531937, best_mse 3.747674074094348\n",
      "lstm1_units: 104, activation: relu, dropout1_rate: 0.17\n",
      "lstm2_units: 136, activation: relu, dropout2_rate: 0.2\n",
      "dense1_units: 176, activation: relu\n",
      "dense2_units: 1, activation: linear\n",
      "optimizer_learning_rate: 0.0005, epochs: 220, batch_size: 128\n"
     ]
    },
    {
     "name": "stderr",
     "output_type": "stream",
     "text": [
      "/home/quentin/Desktop/Optimization/.venv/lib/python3.12/site-packages/keras/src/layers/rnn/rnn.py:204: UserWarning: Do not pass an `input_shape`/`input_dim` argument to a layer. When using Sequential models, prefer using an `Input(shape)` object as the first layer in the model instead.\n",
      "  super().__init__(**kwargs)\n",
      "WARNING: All log messages before absl::InitializeLog() is called are written to STDERR\n",
      "I0000 00:00:1716212215.142528   36255 service.cc:145] XLA service 0x7efba44d9f30 initialized for platform CUDA (this does not guarantee that XLA will be used). Devices:\n",
      "I0000 00:00:1716212215.142552   36255 service.cc:153]   StreamExecutor device (0): NVIDIA GeForce RTX 2060, Compute Capability 7.5\n",
      "2024-05-20 15:36:55.247021: I tensorflow/compiler/mlir/tensorflow/utils/dump_mlir_util.cc:268] disabling MLIR crash reproducer, set env var `MLIR_CRASH_REPRODUCER_DIRECTORY` to enable.\n",
      "I0000 00:00:1716212221.387687   36255 device_compiler.h:188] Compiled cluster using XLA!  This line is logged at most once for the lifetime of the process.\n"
     ]
    },
    {
     "name": "stdout",
     "output_type": "stream",
     "text": [
      "finito pipo\n",
      "\u001b[1m60/60\u001b[0m \u001b[32m━━━━━━━━━━━━━━━━━━━━\u001b[0m\u001b[37m\u001b[0m \u001b[1m2s\u001b[0m 16ms/step\n",
      "\u001b[1m8/8\u001b[0m \u001b[32m━━━━━━━━━━━━━━━━━━━━\u001b[0m\u001b[37m\u001b[0m \u001b[1m1s\u001b[0m 76ms/step\n",
      "MSE: 96.60948028782653\n",
      "current_solution [104, 'relu', 0.17, 136, 'tanh', 0.2, 176, 'relu', 1, 'linear', 0.0005, 220, 128]\n",
      "neighbor [104, 'relu', 0.17, 136, 'relu', 0.2, 176, 'relu', 1, 'linear', 0.0005, 220, 128]\n",
      "mse diff: 88.0610534902946\n",
      "temp 14.943441886631927, mse 8.548426797531937, best_mse 3.747674074094348\n",
      "lstm1_units: 104, activation: relu, dropout1_rate: 0.17\n",
      "lstm2_units: 136, activation: tanh, dropout2_rate: 0.2\n",
      "dense1_units: 176, activation: linear\n",
      "dense2_units: 1, activation: linear\n",
      "optimizer_learning_rate: 0.0005, epochs: 220, batch_size: 128\n"
     ]
    },
    {
     "name": "stderr",
     "output_type": "stream",
     "text": [
      "/home/quentin/Desktop/Optimization/.venv/lib/python3.12/site-packages/keras/src/layers/rnn/rnn.py:204: UserWarning: Do not pass an `input_shape`/`input_dim` argument to a layer. When using Sequential models, prefer using an `Input(shape)` object as the first layer in the model instead.\n",
      "  super().__init__(**kwargs)\n"
     ]
    },
    {
     "name": "stdout",
     "output_type": "stream",
     "text": [
      "finito pipo\n",
      "\u001b[1m60/60\u001b[0m \u001b[32m━━━━━━━━━━━━━━━━━━━━\u001b[0m\u001b[37m\u001b[0m \u001b[1m1s\u001b[0m 10ms/step\n",
      "\u001b[1m8/8\u001b[0m \u001b[32m━━━━━━━━━━━━━━━━━━━━\u001b[0m\u001b[37m\u001b[0m \u001b[1m0s\u001b[0m 6ms/step \n",
      "MSE: 8.11366669862994\n",
      "current_solution [104, 'relu', 0.17, 136, 'tanh', 0.2, 176, 'relu', 1, 'linear', 0.0005, 220, 128]\n",
      "neighbor [104, 'relu', 0.17, 136, 'tanh', 0.2, 176, 'linear', 1, 'linear', 0.0005, 220, 128]\n",
      "mse diff: -0.43476009890199663\n",
      "accept new solution [104, 'relu', 0.17, 136, 'tanh', 0.2, 176, 'linear', 1, 'linear', 0.0005, 220, 128]\n",
      "temp 14.794007467765608, mse 8.11366669862994, best_mse 3.747674074094348\n",
      "lstm1_units: 104, activation: relu, dropout1_rate: 0.17\n",
      "lstm2_units: 136, activation: tanh, dropout2_rate: 0.2\n",
      "dense1_units: 176, activation: linear\n",
      "dense2_units: 1, activation: linear\n",
      "optimizer_learning_rate: 0.0005, epochs: 280, batch_size: 128\n"
     ]
    },
    {
     "name": "stderr",
     "output_type": "stream",
     "text": [
      "/home/quentin/Desktop/Optimization/.venv/lib/python3.12/site-packages/keras/src/layers/rnn/rnn.py:204: UserWarning: Do not pass an `input_shape`/`input_dim` argument to a layer. When using Sequential models, prefer using an `Input(shape)` object as the first layer in the model instead.\n",
      "  super().__init__(**kwargs)\n"
     ]
    },
    {
     "name": "stdout",
     "output_type": "stream",
     "text": [
      "finito pipo\n",
      "\u001b[1m60/60\u001b[0m \u001b[32m━━━━━━━━━━━━━━━━━━━━\u001b[0m\u001b[37m\u001b[0m \u001b[1m1s\u001b[0m 10ms/step\n",
      "\u001b[1m8/8\u001b[0m \u001b[32m━━━━━━━━━━━━━━━━━━━━\u001b[0m\u001b[37m\u001b[0m \u001b[1m0s\u001b[0m 6ms/step \n",
      "MSE: 12.064878568451142\n",
      "current_solution [104, 'relu', 0.17, 136, 'tanh', 0.2, 176, 'linear', 1, 'linear', 0.0005, 220, 128]\n",
      "neighbor [104, 'relu', 0.17, 136, 'tanh', 0.2, 176, 'linear', 1, 'linear', 0.0005, 280, 128]\n",
      "mse diff: 3.9512118698212024\n",
      "accept new solution [104, 'relu', 0.17, 136, 'tanh', 0.2, 176, 'linear', 1, 'linear', 0.0005, 280, 128]\n",
      "temp 14.646067393087952, mse 12.064878568451142, best_mse 3.747674074094348\n",
      "lstm1_units: 104, activation: linear, dropout1_rate: 0.17\n",
      "lstm2_units: 136, activation: tanh, dropout2_rate: 0.2\n",
      "dense1_units: 176, activation: linear\n",
      "dense2_units: 1, activation: linear\n",
      "optimizer_learning_rate: 0.0005, epochs: 280, batch_size: 128\n"
     ]
    },
    {
     "name": "stderr",
     "output_type": "stream",
     "text": [
      "/home/quentin/Desktop/Optimization/.venv/lib/python3.12/site-packages/keras/src/layers/rnn/rnn.py:204: UserWarning: Do not pass an `input_shape`/`input_dim` argument to a layer. When using Sequential models, prefer using an `Input(shape)` object as the first layer in the model instead.\n",
      "  super().__init__(**kwargs)\n"
     ]
    },
    {
     "name": "stdout",
     "output_type": "stream",
     "text": [
      "finito pipo\n",
      "\u001b[1m60/60\u001b[0m \u001b[32m━━━━━━━━━━━━━━━━━━━━\u001b[0m\u001b[37m\u001b[0m \u001b[1m1s\u001b[0m 12ms/step\n",
      "\u001b[1m8/8\u001b[0m \u001b[32m━━━━━━━━━━━━━━━━━━━━\u001b[0m\u001b[37m\u001b[0m \u001b[1m0s\u001b[0m 6ms/step \n",
      "MSE: 6.725970020508401\n",
      "current_solution [104, 'relu', 0.17, 136, 'tanh', 0.2, 176, 'linear', 1, 'linear', 0.0005, 280, 128]\n",
      "neighbor [104, 'linear', 0.17, 136, 'tanh', 0.2, 176, 'linear', 1, 'linear', 0.0005, 280, 128]\n",
      "mse diff: -5.338908547942741\n",
      "accept new solution [104, 'linear', 0.17, 136, 'tanh', 0.2, 176, 'linear', 1, 'linear', 0.0005, 280, 128]\n",
      "temp 14.499606719157072, mse 6.725970020508401, best_mse 3.747674074094348\n",
      "lstm1_units: 104, activation: linear, dropout1_rate: 0.17\n",
      "lstm2_units: 136, activation: tanh, dropout2_rate: 0.2\n",
      "dense1_units: 176, activation: linear\n",
      "dense2_units: 1, activation: linear\n",
      "optimizer_learning_rate: 0.0005, epochs: 280, batch_size: 128\n"
     ]
    },
    {
     "name": "stderr",
     "output_type": "stream",
     "text": [
      "/home/quentin/Desktop/Optimization/.venv/lib/python3.12/site-packages/keras/src/layers/rnn/rnn.py:204: UserWarning: Do not pass an `input_shape`/`input_dim` argument to a layer. When using Sequential models, prefer using an `Input(shape)` object as the first layer in the model instead.\n",
      "  super().__init__(**kwargs)\n"
     ]
    },
    {
     "name": "stdout",
     "output_type": "stream",
     "text": [
      "finito pipo\n",
      "\u001b[1m60/60\u001b[0m \u001b[32m━━━━━━━━━━━━━━━━━━━━\u001b[0m\u001b[37m\u001b[0m \u001b[1m1s\u001b[0m 10ms/step\n",
      "\u001b[1m8/8\u001b[0m \u001b[32m━━━━━━━━━━━━━━━━━━━━\u001b[0m\u001b[37m\u001b[0m \u001b[1m0s\u001b[0m 5ms/step \n",
      "MSE: 7.317281055011436\n",
      "current_solution [104, 'linear', 0.17, 136, 'tanh', 0.2, 176, 'linear', 1, 'linear', 0.0005, 280, 128]\n",
      "neighbor [104, 'linear', 0.17, 136, 'tanh', 0.2, 176, 'linear', 1, 'linear', 0.0005, 280, 128]\n",
      "mse diff: 0.5913110345030343\n",
      "accept new solution [104, 'linear', 0.17, 136, 'tanh', 0.2, 176, 'linear', 1, 'linear', 0.0005, 280, 128]\n",
      "temp 14.354610651965501, mse 7.317281055011436, best_mse 3.747674074094348\n",
      "lstm1_units: 104, activation: linear, dropout1_rate: 0.17\n",
      "lstm2_units: 136, activation: tanh, dropout2_rate: 0.2\n",
      "dense1_units: 176, activation: linear\n",
      "dense2_units: 1, activation: linear\n",
      "optimizer_learning_rate: 0.0005, epochs: 280, batch_size: 128\n"
     ]
    },
    {
     "name": "stderr",
     "output_type": "stream",
     "text": [
      "/home/quentin/Desktop/Optimization/.venv/lib/python3.12/site-packages/keras/src/layers/rnn/rnn.py:204: UserWarning: Do not pass an `input_shape`/`input_dim` argument to a layer. When using Sequential models, prefer using an `Input(shape)` object as the first layer in the model instead.\n",
      "  super().__init__(**kwargs)\n"
     ]
    },
    {
     "name": "stdout",
     "output_type": "stream",
     "text": [
      "finito pipo\n",
      "\u001b[1m60/60\u001b[0m \u001b[32m━━━━━━━━━━━━━━━━━━━━\u001b[0m\u001b[37m\u001b[0m \u001b[1m1s\u001b[0m 9ms/step\n",
      "\u001b[1m8/8\u001b[0m \u001b[32m━━━━━━━━━━━━━━━━━━━━\u001b[0m\u001b[37m\u001b[0m \u001b[1m0s\u001b[0m 6ms/step \n",
      "MSE: 6.689071340740422\n",
      "current_solution [104, 'linear', 0.17, 136, 'tanh', 0.2, 176, 'linear', 1, 'linear', 0.0005, 280, 128]\n",
      "neighbor [104, 'linear', 0.17, 136, 'tanh', 0.2, 176, 'linear', 1, 'linear', 0.0005, 280, 128]\n",
      "mse diff: -0.6282097142710139\n",
      "accept new solution [104, 'linear', 0.17, 136, 'tanh', 0.2, 176, 'linear', 1, 'linear', 0.0005, 280, 128]\n",
      "temp 14.211064545445845, mse 6.689071340740422, best_mse 3.747674074094348\n",
      "lstm1_units: 104, activation: linear, dropout1_rate: 0.42\n",
      "lstm2_units: 136, activation: tanh, dropout2_rate: 0.2\n",
      "dense1_units: 176, activation: linear\n",
      "dense2_units: 1, activation: linear\n",
      "optimizer_learning_rate: 0.0005, epochs: 280, batch_size: 128\n"
     ]
    },
    {
     "name": "stderr",
     "output_type": "stream",
     "text": [
      "/home/quentin/Desktop/Optimization/.venv/lib/python3.12/site-packages/keras/src/layers/rnn/rnn.py:204: UserWarning: Do not pass an `input_shape`/`input_dim` argument to a layer. When using Sequential models, prefer using an `Input(shape)` object as the first layer in the model instead.\n",
      "  super().__init__(**kwargs)\n"
     ]
    },
    {
     "name": "stdout",
     "output_type": "stream",
     "text": [
      "finito pipo\n",
      "\u001b[1m60/60\u001b[0m \u001b[32m━━━━━━━━━━━━━━━━━━━━\u001b[0m\u001b[37m\u001b[0m \u001b[1m1s\u001b[0m 10ms/step\n",
      "\u001b[1m8/8\u001b[0m \u001b[32m━━━━━━━━━━━━━━━━━━━━\u001b[0m\u001b[37m\u001b[0m \u001b[1m0s\u001b[0m 6ms/step \n",
      "MSE: 16.91636057088268\n",
      "current_solution [104, 'linear', 0.17, 136, 'tanh', 0.2, 176, 'linear', 1, 'linear', 0.0005, 280, 128]\n",
      "neighbor [104, 'linear', 0.42, 136, 'tanh', 0.2, 176, 'linear', 1, 'linear', 0.0005, 280, 128]\n",
      "mse diff: 10.227289230142258\n",
      "accept new solution [104, 'linear', 0.42, 136, 'tanh', 0.2, 176, 'linear', 1, 'linear', 0.0005, 280, 128]\n",
      "temp 14.068953899991387, mse 16.91636057088268, best_mse 3.747674074094348\n",
      "lstm1_units: 104, activation: linear, dropout1_rate: 0.26\n",
      "lstm2_units: 136, activation: tanh, dropout2_rate: 0.2\n",
      "dense1_units: 176, activation: linear\n",
      "dense2_units: 1, activation: linear\n",
      "optimizer_learning_rate: 0.0005, epochs: 280, batch_size: 128\n"
     ]
    },
    {
     "name": "stderr",
     "output_type": "stream",
     "text": [
      "/home/quentin/Desktop/Optimization/.venv/lib/python3.12/site-packages/keras/src/layers/rnn/rnn.py:204: UserWarning: Do not pass an `input_shape`/`input_dim` argument to a layer. When using Sequential models, prefer using an `Input(shape)` object as the first layer in the model instead.\n",
      "  super().__init__(**kwargs)\n"
     ]
    },
    {
     "name": "stdout",
     "output_type": "stream",
     "text": [
      "finito pipo\n",
      "\u001b[1m60/60\u001b[0m \u001b[32m━━━━━━━━━━━━━━━━━━━━\u001b[0m\u001b[37m\u001b[0m \u001b[1m1s\u001b[0m 9ms/step\n",
      "\u001b[1m8/8\u001b[0m \u001b[32m━━━━━━━━━━━━━━━━━━━━\u001b[0m\u001b[37m\u001b[0m \u001b[1m0s\u001b[0m 5ms/step \n",
      "MSE: 10.986725050146623\n",
      "current_solution [104, 'linear', 0.42, 136, 'tanh', 0.2, 176, 'linear', 1, 'linear', 0.0005, 280, 128]\n",
      "neighbor [104, 'linear', 0.26, 136, 'tanh', 0.2, 176, 'linear', 1, 'linear', 0.0005, 280, 128]\n",
      "mse diff: -5.929635520736058\n",
      "accept new solution [104, 'linear', 0.26, 136, 'tanh', 0.2, 176, 'linear', 1, 'linear', 0.0005, 280, 128]\n",
      "temp 13.928264360991474, mse 10.986725050146623, best_mse 3.747674074094348\n",
      "lstm1_units: 104, activation: linear, dropout1_rate: 0.26\n",
      "lstm2_units: 136, activation: tanh, dropout2_rate: 0.2\n",
      "dense1_units: 176, activation: linear\n",
      "dense2_units: 1, activation: linear\n",
      "optimizer_learning_rate: 0.0005, epochs: 280, batch_size: 128\n"
     ]
    },
    {
     "name": "stderr",
     "output_type": "stream",
     "text": [
      "/home/quentin/Desktop/Optimization/.venv/lib/python3.12/site-packages/keras/src/layers/rnn/rnn.py:204: UserWarning: Do not pass an `input_shape`/`input_dim` argument to a layer. When using Sequential models, prefer using an `Input(shape)` object as the first layer in the model instead.\n",
      "  super().__init__(**kwargs)\n"
     ]
    },
    {
     "name": "stdout",
     "output_type": "stream",
     "text": [
      "finito pipo\n",
      "\u001b[1m60/60\u001b[0m \u001b[32m━━━━━━━━━━━━━━━━━━━━\u001b[0m\u001b[37m\u001b[0m \u001b[1m1s\u001b[0m 11ms/step\n",
      "\u001b[1m8/8\u001b[0m \u001b[32m━━━━━━━━━━━━━━━━━━━━\u001b[0m\u001b[37m\u001b[0m \u001b[1m0s\u001b[0m 7ms/step \n",
      "MSE: 11.270953285514278\n",
      "current_solution [104, 'linear', 0.26, 136, 'tanh', 0.2, 176, 'linear', 1, 'linear', 0.0005, 280, 128]\n",
      "neighbor [104, 'linear', 0.26, 136, 'tanh', 0.2, 176, 'linear', 1, 'linear', 0.0005, 280, 128]\n",
      "mse diff: 0.28422823536765485\n",
      "accept new solution [104, 'linear', 0.26, 136, 'tanh', 0.2, 176, 'linear', 1, 'linear', 0.0005, 280, 128]\n",
      "temp 13.788981717381558, mse 11.270953285514278, best_mse 3.747674074094348\n",
      "lstm1_units: 104, activation: linear, dropout1_rate: 0.26\n",
      "lstm2_units: 136, activation: tanh, dropout2_rate: 0.2\n",
      "dense1_units: 176, activation: linear\n",
      "dense2_units: 1, activation: linear\n",
      "optimizer_learning_rate: 0.0005, epochs: 280, batch_size: 128\n"
     ]
    },
    {
     "name": "stderr",
     "output_type": "stream",
     "text": [
      "/home/quentin/Desktop/Optimization/.venv/lib/python3.12/site-packages/keras/src/layers/rnn/rnn.py:204: UserWarning: Do not pass an `input_shape`/`input_dim` argument to a layer. When using Sequential models, prefer using an `Input(shape)` object as the first layer in the model instead.\n",
      "  super().__init__(**kwargs)\n"
     ]
    },
    {
     "name": "stdout",
     "output_type": "stream",
     "text": [
      "finito pipo\n",
      "\u001b[1m60/60\u001b[0m \u001b[32m━━━━━━━━━━━━━━━━━━━━\u001b[0m\u001b[37m\u001b[0m \u001b[1m1s\u001b[0m 10ms/step\n",
      "\u001b[1m8/8\u001b[0m \u001b[32m━━━━━━━━━━━━━━━━━━━━\u001b[0m\u001b[37m\u001b[0m \u001b[1m0s\u001b[0m 7ms/step \n",
      "MSE: 6.123188613503737\n",
      "current_solution [104, 'linear', 0.26, 136, 'tanh', 0.2, 176, 'linear', 1, 'linear', 0.0005, 280, 128]\n",
      "neighbor [104, 'linear', 0.26, 136, 'tanh', 0.2, 176, 'linear', 1, 'linear', 0.0005, 280, 128]\n",
      "mse diff: -5.14776467201054\n",
      "accept new solution [104, 'linear', 0.26, 136, 'tanh', 0.2, 176, 'linear', 1, 'linear', 0.0005, 280, 128]\n",
      "temp 13.651091900207742, mse 6.123188613503737, best_mse 3.747674074094348\n",
      "lstm1_units: 104, activation: linear, dropout1_rate: 0.26\n",
      "lstm2_units: 136, activation: tanh, dropout2_rate: 0.2\n",
      "dense1_units: 176, activation: tanh\n",
      "dense2_units: 1, activation: linear\n",
      "optimizer_learning_rate: 0.0005, epochs: 280, batch_size: 128\n"
     ]
    },
    {
     "name": "stderr",
     "output_type": "stream",
     "text": [
      "/home/quentin/Desktop/Optimization/.venv/lib/python3.12/site-packages/keras/src/layers/rnn/rnn.py:204: UserWarning: Do not pass an `input_shape`/`input_dim` argument to a layer. When using Sequential models, prefer using an `Input(shape)` object as the first layer in the model instead.\n",
      "  super().__init__(**kwargs)\n"
     ]
    },
    {
     "name": "stdout",
     "output_type": "stream",
     "text": [
      "finito pipo\n",
      "\u001b[1m60/60\u001b[0m \u001b[32m━━━━━━━━━━━━━━━━━━━━\u001b[0m\u001b[37m\u001b[0m \u001b[1m1s\u001b[0m 9ms/step\n",
      "\u001b[1m8/8\u001b[0m \u001b[32m━━━━━━━━━━━━━━━━━━━━\u001b[0m\u001b[37m\u001b[0m \u001b[1m0s\u001b[0m 6ms/step \n",
      "MSE: 5.641257033107359\n",
      "current_solution [104, 'linear', 0.26, 136, 'tanh', 0.2, 176, 'linear', 1, 'linear', 0.0005, 280, 128]\n",
      "neighbor [104, 'linear', 0.26, 136, 'tanh', 0.2, 176, 'tanh', 1, 'linear', 0.0005, 280, 128]\n",
      "mse diff: -0.4819315803963784\n",
      "accept new solution [104, 'linear', 0.26, 136, 'tanh', 0.2, 176, 'tanh', 1, 'linear', 0.0005, 280, 128]\n",
      "temp 13.514580981205665, mse 5.641257033107359, best_mse 3.747674074094348\n",
      "lstm1_units: 32, activation: linear, dropout1_rate: 0.26\n",
      "lstm2_units: 136, activation: tanh, dropout2_rate: 0.2\n",
      "dense1_units: 176, activation: tanh\n",
      "dense2_units: 1, activation: linear\n",
      "optimizer_learning_rate: 0.0005, epochs: 280, batch_size: 128\n"
     ]
    },
    {
     "name": "stderr",
     "output_type": "stream",
     "text": [
      "/home/quentin/Desktop/Optimization/.venv/lib/python3.12/site-packages/keras/src/layers/rnn/rnn.py:204: UserWarning: Do not pass an `input_shape`/`input_dim` argument to a layer. When using Sequential models, prefer using an `Input(shape)` object as the first layer in the model instead.\n",
      "  super().__init__(**kwargs)\n"
     ]
    },
    {
     "name": "stdout",
     "output_type": "stream",
     "text": [
      "finito pipo\n"
     ]
    }
   ],
   "source": [
    "import random\n",
    "import math\n",
    "import logging\n",
    "import time\n",
    "import tensorflow as tf\n",
    "from keras.layers import Dense, LSTM, Dropout\n",
    "from keras.models import Sequential\n",
    "from keras.optimizers import Adam\n",
    "from sklearn.metrics import mean_squared_error\n",
    "from sklearn.preprocessing import MinMaxScaler\n",
    "import numpy as np\n",
    "import pandas as pd\n",
    "\n",
    "# Lire le fichier CSV principal\n",
    "df = pd.read_csv('../../full_dataset.csv')\n",
    "df = df.drop(\"date\", axis=1)\n",
    "\n",
    "# Identifier les coordonnées uniques (latitude, longitude)\n",
    "coordinates = df[['latitude', 'longitude']].drop_duplicates()\n",
    "\n",
    "# Liste pour stocker les dataframes échantillonnés\n",
    "sampled_dfs = []\n",
    "\n",
    "# Filtrer les données pour chaque bâtiment en fonction des coordonnées\n",
    "for index, row in coordinates.iterrows():\n",
    "    lat, long = row['latitude'], row['longitude']\n",
    "    building_data = df[(df['latitude'] == lat) & (df['longitude'] == long)]\n",
    "    \n",
    "    # Calculer le nombre de lignes correspondant à 20% du dataframe\n",
    "    num_rows = int(len(building_data) * 0.2)\n",
    "    \n",
    "    # Prendre les premières 20% des lignes\n",
    "    sampled_df = building_data.head(num_rows)\n",
    "    \n",
    "    # Ajouter le dataframe échantillonné à la liste\n",
    "    sampled_dfs.append(sampled_df)\n",
    "\n",
    "# Fusionner tous les dataframes échantillonnés en un seul dataframe\n",
    "data = pd.concat(sampled_dfs, ignore_index=True)\n",
    "\n",
    "# save the dataframe to a csv file\n",
    "data.to_csv('data.csv', index=False)\n",
    "\n",
    "# Afficher un aperçu du dataframe final\n",
    "print(data.head())\n",
    "data_train = data[data['building_id'] != 8]\n",
    "data_test = data[data['building_id'] == 8]\n",
    "\n",
    "data_train.shape, data_test.shape\n",
    "\n",
    "\n",
    "target_column = 'production'\n",
    "\n",
    "x_train = data_train.drop(target_column, axis=1)\n",
    "y_train = data_train[target_column].values.reshape(-1, 1)\n",
    "\n",
    "x_test = data_test.drop(target_column, axis=1)\n",
    "y_test = data_test[target_column].values.reshape(-1, 1)\n",
    "\n",
    "\n",
    "x_scaler = MinMaxScaler(feature_range=(0, 1))\n",
    "x_scaler.fit(x_train)\n",
    "\n",
    "x_train_scaled = x_scaler.transform(x_train)\n",
    "x_test_scaled = x_scaler.transform(x_test)\n",
    "\n",
    "\n",
    "def get_windows(x, y, window_size):\n",
    "    x_windows, y_windows = [], []\n",
    "\n",
    "    for i in range(len(x) - window_size):\n",
    "        x_window = x[i:i+window_size]\n",
    "        y_window = y[i:i+window_size]\n",
    "\n",
    "        x_window = np.hstack((x_window, y_window))\n",
    "\n",
    "        x_windows.append(x_window)\n",
    "        y_windows.append(y[i+window_size])\n",
    "\n",
    "    return np.array(x_windows), np.array(y_windows)\n",
    "\n",
    "\n",
    "x_train_windows, y_train_windows = get_windows(x_train_scaled, y_train, 10)\n",
    "x_test_windows, y_test_windows = get_windows(x_test_scaled, y_test, 10)\n",
    "\n",
    "\n",
    "tf.random.set_seed(42)\n",
    "\n",
    "\n",
    "def evaluate_model(y_true, y_pred):\n",
    "    mse = mean_squared_error(y_true, y_pred)\n",
    "    print(f\"MSE: {mse}\")\n",
    "    return mse\n",
    "\n",
    "\n",
    "# Define the parameter ranges\n",
    "LSTM1_units = list(range(16, 256, 8))\n",
    "LSTM1_activation = ['tanh', 'relu', 'sigmoid', 'hard_sigmoid', 'linear']\n",
    "DROPOUT1_rate = list(np.arange(0, 0.9, 0.01))\n",
    "LSTM2_units = list(range(16, 256, 8))\n",
    "LSTM2_activation = ['tanh', 'relu', 'sigmoid', 'hard_sigmoid', 'linear']\n",
    "DROPOUT2_rate = list(np.arange(0, 0.9, 0.01))\n",
    "DENSE1_units = list(range(16, 256, 8))\n",
    "DENSE1_activation = ['tanh', 'relu', 'sigmoid', 'hard_sigmoid', 'linear']\n",
    "DENSE2_units = [1]\n",
    "DENSE2_activation = ['linear']\n",
    "OPTIMIZER_learning_rate = list(np.arange(0, 0.001, 0.0001))\n",
    "EPOCHS = list(range(200, 400, 10))\n",
    "BATCH_SIZE = list(range(32, 128, 8))\n",
    "\n",
    "\n",
    "def objective_function(params):\n",
    "    # Unpack the parameters with names\n",
    "    lstm1_units, lstm1_activation, dropout1_rate, lstm2_units, lstm2_activation, dropout2_rate, dense1_units, dense1_activation, dense2_units, dense2_activation, optimizer_learning_rate, epochs, batch_size = params\n",
    "    print(f\"lstm1_units: {lstm1_units}, activation: {lstm1_activation}, dropout1_rate: {dropout1_rate}\")\n",
    "    print(f\"lstm2_units: {lstm2_units}, activation: {lstm2_activation}, dropout2_rate: {dropout2_rate}\")\n",
    "    print(f\"dense1_units: {dense1_units}, activation: {dense1_activation}\")\n",
    "    print(f\"dense2_units: {dense2_units}, activation: {dense2_activation}\")\n",
    "    print(f\"optimizer_learning_rate: {optimizer_learning_rate}, epochs: {epochs}, batch_size: {batch_size}\")\n",
    "\n",
    "    model = Sequential([\n",
    "        LSTM(lstm1_units, activation=lstm1_activation, input_shape=(\n",
    "            x_train_windows.shape[1:]), return_sequences=True),\n",
    "        Dropout(dropout1_rate),\n",
    "\n",
    "        LSTM(lstm2_units, activation=lstm2_activation, return_sequences=False),\n",
    "        Dropout(dropout2_rate),\n",
    "\n",
    "        Dense(dense1_units, activation=dense1_activation),\n",
    "        Dense(dense2_units, activation=dense2_activation)\n",
    "    ])\n",
    "\n",
    "    optimizer = Adam(learning_rate=optimizer_learning_rate)\n",
    "    model.compile(optimizer=optimizer, loss='mean_absolute_error')\n",
    "\n",
    "    try:\n",
    "\n",
    "        start_time = time.time()\n",
    "        history = model.fit(x=x_train_windows,\n",
    "                            y=y_train_windows,\n",
    "                            epochs=epochs,\n",
    "                            batch_size=batch_size,\n",
    "                            validation_split=0.2,\n",
    "                            shuffle=False,\n",
    "                            verbose=0)\n",
    "        training_duration = time.time() - start_time\n",
    "    finally:\n",
    "        print(\"finito pipo\")\n",
    "        # tracker.stop()\n",
    "\n",
    "    y_pred_train = model.predict(x_train_windows)\n",
    "    y_pred_test = model.predict(x_test_windows)\n",
    "    performance_metric = evaluate_model(y_test_windows, y_pred_test)\n",
    "\n",
    "    return performance_metric\n",
    "\n",
    "\n",
    "def simulated_annealing(initial_temp, final_temp, alpha, max_iterations):\n",
    "    # Initialize the default solution \n",
    "    current_solution = [\n",
    "        128, \"tanh\", 0.2,\n",
    "        64, \"tanh\", 0.2,\n",
    "        64, \"relu\", 1, \"linear\",\n",
    "        0.001, 300, 128\n",
    "    ]\n",
    "    current_mse = objective_function(current_solution)\n",
    "    best_solution = current_solution\n",
    "    best_mse = current_mse\n",
    "    temp = initial_temp\n",
    "\n",
    "    for iteration in range(max_iterations):\n",
    "        if temp < final_temp:\n",
    "            break\n",
    "\n",
    "        # Generate a neighboring solution\n",
    "        neighbor = list(current_solution)\n",
    "        param_index = random.randint(0, len(current_solution) - 1)\n",
    "        if param_index == 0:\n",
    "            neighbor[param_index] = random.choice(LSTM1_units)\n",
    "        elif param_index == 1:\n",
    "            neighbor[param_index] = random.choice(LSTM1_activation)\n",
    "        elif param_index == 2:\n",
    "            neighbor[param_index] = random.choice(DROPOUT1_rate)\n",
    "        elif param_index == 3:\n",
    "            neighbor[param_index] = random.choice(LSTM2_units)\n",
    "        elif param_index == 4:\n",
    "            neighbor[param_index] = random.choice(LSTM2_activation)\n",
    "        elif param_index == 5:\n",
    "            neighbor[param_index] = random.choice(DROPOUT2_rate)\n",
    "        elif param_index == 6:\n",
    "            neighbor[param_index] = random.choice(DENSE1_units)\n",
    "        elif param_index == 7:\n",
    "            neighbor[param_index] = random.choice(DENSE1_activation)\n",
    "        elif param_index == 8:\n",
    "            neighbor[param_index] = random.choice(DENSE2_units)\n",
    "        elif param_index == 9:\n",
    "            neighbor[param_index] = random.choice(DENSE2_activation)\n",
    "        elif param_index == 10:\n",
    "            neighbor[param_index] = random.choice(OPTIMIZER_learning_rate)\n",
    "        elif param_index == 11:\n",
    "            neighbor[param_index] = random.choice(EPOCHS)\n",
    "        elif param_index == 12:\n",
    "            neighbor[param_index] = random.choice(BATCH_SIZE)\n",
    "\n",
    "        neighbor_mse = objective_function(neighbor)\n",
    "\n",
    "        # Acceptance criterion\n",
    "\n",
    "        mse_diff = neighbor_mse - current_mse\n",
    "        print(f\"current_solution {current_solution}\")\n",
    "        print(f\"neighbor {neighbor}\")\n",
    "        print(f\"mse diff: {mse_diff}\")\n",
    "        if mse_diff < 0 or random.random() < math.exp(-mse_diff / temp):\n",
    "            print(\"accept new solution\", neighbor)\n",
    "            current_solution = neighbor\n",
    "            current_mse = neighbor_mse\n",
    "\n",
    "            if neighbor_mse < best_mse:\n",
    "                print(\"better solution\")\n",
    "                best_solution = neighbor\n",
    "                best_mse = neighbor_mse\n",
    "\n",
    "        # Update temperature\n",
    "        temp = temp * alpha\n",
    "        print(f\"temp {temp}, mse {current_mse}, best_mse {best_mse}\")\n",
    "\n",
    "    return best_solution, best_mse\n",
    "\n",
    "\n",
    "# Run the simulated annealing algorithm\n",
    "initial_temp = 20  # Initial temperature\n",
    "final_temp = 0.2  # Final temperature\n",
    "alpha = 0.99  # Temperature decay rate\n",
    "max_iterations = 10000  # Maximum number of iterations\n",
    "\n",
    "best_params, best_mse = simulated_annealing(\n",
    "    initial_temp, final_temp, alpha, max_iterations)\n",
    "print(\"Best parameters:\", best_params)\n",
    "print(\"Best mse:\", best_mse)"
   ]
  }
 ],
 "metadata": {
  "kernelspec": {
   "display_name": "spyder",
   "language": "python",
   "name": "python3"
  },
  "language_info": {
   "codemirror_mode": {
    "name": "ipython",
    "version": 3
   },
   "file_extension": ".py",
   "mimetype": "text/x-python",
   "name": "python",
   "nbconvert_exporter": "python",
   "pygments_lexer": "ipython3",
   "version": "3.12.3"
  }
 },
 "nbformat": 4,
 "nbformat_minor": 2
}
