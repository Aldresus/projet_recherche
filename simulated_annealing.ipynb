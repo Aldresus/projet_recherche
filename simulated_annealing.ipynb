{
 "cells": [
  {
   "cell_type": "code",
   "execution_count": 1,
   "metadata": {},
   "outputs": [
    {
     "name": "stderr",
     "output_type": "stream",
     "text": [
      "2024-05-16 09:07:47.056029: I tensorflow/core/platform/cpu_feature_guard.cc:210] This TensorFlow binary is optimized to use available CPU instructions in performance-critical operations.\n",
      "To enable the following instructions: AVX2 FMA, in other operations, rebuild TensorFlow with the appropriate compiler flags.\n",
      "2024-05-16 09:07:48.024224: W tensorflow/compiler/tf2tensorrt/utils/py_utils.cc:38] TF-TRT Warning: Could not find TensorRT\n"
     ]
    },
    {
     "name": "stdout",
     "output_type": "stream",
     "text": [
      "params [128, 'tanh', 0.2, 64, 'tanh', 0.2, 64, 'relu', 1, 'linear', 0.001, 300, 128]\n"
     ]
    },
    {
     "name": "stderr",
     "output_type": "stream",
     "text": [
      "2024-05-16 09:07:49.658884: I external/local_xla/xla/stream_executor/cuda/cuda_executor.cc:998] successful NUMA node read from SysFS had negative value (-1), but there must be at least one NUMA node, so returning NUMA node zero. See more at https://github.com/torvalds/linux/blob/v6.0/Documentation/ABI/testing/sysfs-bus-pci#L344-L355\n",
      "2024-05-16 09:07:49.782349: I external/local_xla/xla/stream_executor/cuda/cuda_executor.cc:998] successful NUMA node read from SysFS had negative value (-1), but there must be at least one NUMA node, so returning NUMA node zero. See more at https://github.com/torvalds/linux/blob/v6.0/Documentation/ABI/testing/sysfs-bus-pci#L344-L355\n",
      "2024-05-16 09:07:49.782512: I external/local_xla/xla/stream_executor/cuda/cuda_executor.cc:998] successful NUMA node read from SysFS had negative value (-1), but there must be at least one NUMA node, so returning NUMA node zero. See more at https://github.com/torvalds/linux/blob/v6.0/Documentation/ABI/testing/sysfs-bus-pci#L344-L355\n",
      "2024-05-16 09:07:49.783907: I external/local_xla/xla/stream_executor/cuda/cuda_executor.cc:998] successful NUMA node read from SysFS had negative value (-1), but there must be at least one NUMA node, so returning NUMA node zero. See more at https://github.com/torvalds/linux/blob/v6.0/Documentation/ABI/testing/sysfs-bus-pci#L344-L355\n",
      "2024-05-16 09:07:49.784035: I external/local_xla/xla/stream_executor/cuda/cuda_executor.cc:998] successful NUMA node read from SysFS had negative value (-1), but there must be at least one NUMA node, so returning NUMA node zero. See more at https://github.com/torvalds/linux/blob/v6.0/Documentation/ABI/testing/sysfs-bus-pci#L344-L355\n",
      "2024-05-16 09:07:49.784138: I external/local_xla/xla/stream_executor/cuda/cuda_executor.cc:998] successful NUMA node read from SysFS had negative value (-1), but there must be at least one NUMA node, so returning NUMA node zero. See more at https://github.com/torvalds/linux/blob/v6.0/Documentation/ABI/testing/sysfs-bus-pci#L344-L355\n",
      "2024-05-16 09:07:49.855412: I external/local_xla/xla/stream_executor/cuda/cuda_executor.cc:998] successful NUMA node read from SysFS had negative value (-1), but there must be at least one NUMA node, so returning NUMA node zero. See more at https://github.com/torvalds/linux/blob/v6.0/Documentation/ABI/testing/sysfs-bus-pci#L344-L355\n",
      "2024-05-16 09:07:49.855563: I external/local_xla/xla/stream_executor/cuda/cuda_executor.cc:998] successful NUMA node read from SysFS had negative value (-1), but there must be at least one NUMA node, so returning NUMA node zero. See more at https://github.com/torvalds/linux/blob/v6.0/Documentation/ABI/testing/sysfs-bus-pci#L344-L355\n",
      "2024-05-16 09:07:49.855679: I external/local_xla/xla/stream_executor/cuda/cuda_executor.cc:998] successful NUMA node read from SysFS had negative value (-1), but there must be at least one NUMA node, so returning NUMA node zero. See more at https://github.com/torvalds/linux/blob/v6.0/Documentation/ABI/testing/sysfs-bus-pci#L344-L355\n",
      "2024-05-16 09:07:49.855975: I tensorflow/core/common_runtime/gpu/gpu_device.cc:1928] Created device /job:localhost/replica:0/task:0/device:GPU:0 with 4778 MB memory:  -> device: 0, name: NVIDIA GeForce RTX 2060, pci bus id: 0000:01:00.0, compute capability: 7.5\n",
      "/home/quentin/Desktop/Optimization/.venv/lib/python3.12/site-packages/keras/src/layers/rnn/rnn.py:204: UserWarning: Do not pass an `input_shape`/`input_dim` argument to a layer. When using Sequential models, prefer using an `Input(shape)` object as the first layer in the model instead.\n",
      "  super().__init__(**kwargs)\n",
      "2024-05-16 09:07:52.459645: I external/local_xla/xla/stream_executor/cuda/cuda_dnn.cc:465] Loaded cuDNN version 8907\n"
     ]
    },
    {
     "name": "stdout",
     "output_type": "stream",
     "text": [
      "finito pipo\n",
      "\u001b[1m60/60\u001b[0m \u001b[32m━━━━━━━━━━━━━━━━━━━━\u001b[0m\u001b[37m\u001b[0m \u001b[1m0s\u001b[0m 5ms/step\n",
      "\u001b[1m8/8\u001b[0m \u001b[32m━━━━━━━━━━━━━━━━━━━━\u001b[0m\u001b[37m\u001b[0m \u001b[1m0s\u001b[0m 2ms/step \n",
      "MSE: 9.100579228191672\n",
      "params [128, 'tanh', 0.2, 64, 'tanh', 0.2, 64, 'relu', 1, 'linear', 0.001, 300, 40]\n"
     ]
    },
    {
     "name": "stderr",
     "output_type": "stream",
     "text": [
      "/home/quentin/Desktop/Optimization/.venv/lib/python3.12/site-packages/keras/src/layers/rnn/rnn.py:204: UserWarning: Do not pass an `input_shape`/`input_dim` argument to a layer. When using Sequential models, prefer using an `Input(shape)` object as the first layer in the model instead.\n",
      "  super().__init__(**kwargs)\n"
     ]
    },
    {
     "name": "stdout",
     "output_type": "stream",
     "text": [
      "finito pipo\n",
      "\u001b[1m60/60\u001b[0m \u001b[32m━━━━━━━━━━━━━━━━━━━━\u001b[0m\u001b[37m\u001b[0m \u001b[1m1s\u001b[0m 7ms/step\n",
      "\u001b[1m8/8\u001b[0m \u001b[32m━━━━━━━━━━━━━━━━━━━━\u001b[0m\u001b[37m\u001b[0m \u001b[1m0s\u001b[0m 2ms/step \n",
      "MSE: 10.40819933640721\n",
      "current_solution [128, 'tanh', 0.2, 64, 'tanh', 0.2, 64, 'relu', 1, 'linear', 0.001, 300, 128]\n",
      "neighbor [128, 'tanh', 0.2, 64, 'tanh', 0.2, 64, 'relu', 1, 'linear', 0.001, 300, 40]\n",
      "mse diff: 1.3076201082155379\n",
      "accept new solution [128, 'tanh', 0.2, 64, 'tanh', 0.2, 64, 'relu', 1, 'linear', 0.001, 300, 40]\n",
      "temp 18.0, mse 10.40819933640721, best_mse 9.100579228191672\n",
      "params [128, 'tanh', 0.2, 64, 'tanh', 0.2, 64, 'relu', 1, 'linear', 0.001, 300, 40]\n"
     ]
    },
    {
     "name": "stderr",
     "output_type": "stream",
     "text": [
      "/home/quentin/Desktop/Optimization/.venv/lib/python3.12/site-packages/keras/src/layers/rnn/rnn.py:204: UserWarning: Do not pass an `input_shape`/`input_dim` argument to a layer. When using Sequential models, prefer using an `Input(shape)` object as the first layer in the model instead.\n",
      "  super().__init__(**kwargs)\n"
     ]
    },
    {
     "name": "stdout",
     "output_type": "stream",
     "text": [
      "finito pipo\n",
      "\u001b[1m60/60\u001b[0m \u001b[32m━━━━━━━━━━━━━━━━━━━━\u001b[0m\u001b[37m\u001b[0m \u001b[1m0s\u001b[0m 4ms/step\n",
      "\u001b[1m8/8\u001b[0m \u001b[32m━━━━━━━━━━━━━━━━━━━━\u001b[0m\u001b[37m\u001b[0m \u001b[1m0s\u001b[0m 1ms/step \n",
      "MSE: 12.73520362428455\n",
      "current_solution [128, 'tanh', 0.2, 64, 'tanh', 0.2, 64, 'relu', 1, 'linear', 0.001, 300, 40]\n",
      "neighbor [128, 'tanh', 0.2, 64, 'tanh', 0.2, 64, 'relu', 1, 'linear', 0.001, 300, 40]\n",
      "mse diff: 2.3270042878773403\n",
      "temp 16.2, mse 10.40819933640721, best_mse 9.100579228191672\n",
      "params [128, 'tanh', 0.2, 64, 'tanh', 0.2, 64, 'relu', 1, 'linear', 0.001, 300, 40]\n"
     ]
    },
    {
     "name": "stderr",
     "output_type": "stream",
     "text": [
      "/home/quentin/Desktop/Optimization/.venv/lib/python3.12/site-packages/keras/src/layers/rnn/rnn.py:204: UserWarning: Do not pass an `input_shape`/`input_dim` argument to a layer. When using Sequential models, prefer using an `Input(shape)` object as the first layer in the model instead.\n",
      "  super().__init__(**kwargs)\n"
     ]
    },
    {
     "name": "stdout",
     "output_type": "stream",
     "text": [
      "finito pipo\n",
      "\u001b[1m60/60\u001b[0m \u001b[32m━━━━━━━━━━━━━━━━━━━━\u001b[0m\u001b[37m\u001b[0m \u001b[1m0s\u001b[0m 4ms/step\n",
      "\u001b[1m8/8\u001b[0m \u001b[32m━━━━━━━━━━━━━━━━━━━━\u001b[0m\u001b[37m\u001b[0m \u001b[1m0s\u001b[0m 2ms/step \n",
      "MSE: 25.13747253803447\n",
      "current_solution [128, 'tanh', 0.2, 64, 'tanh', 0.2, 64, 'relu', 1, 'linear', 0.001, 300, 40]\n",
      "neighbor [128, 'tanh', 0.2, 64, 'tanh', 0.2, 64, 'relu', 1, 'linear', 0.001, 300, 40]\n",
      "mse diff: 14.72927320162726\n",
      "accept new solution [128, 'tanh', 0.2, 64, 'tanh', 0.2, 64, 'relu', 1, 'linear', 0.001, 300, 40]\n",
      "temp 14.58, mse 25.13747253803447, best_mse 9.100579228191672\n",
      "params [128, 'tanh', 0.2, 64, 'tanh', 0.88, 64, 'relu', 1, 'linear', 0.001, 300, 40]\n"
     ]
    },
    {
     "name": "stderr",
     "output_type": "stream",
     "text": [
      "/home/quentin/Desktop/Optimization/.venv/lib/python3.12/site-packages/keras/src/layers/rnn/rnn.py:204: UserWarning: Do not pass an `input_shape`/`input_dim` argument to a layer. When using Sequential models, prefer using an `Input(shape)` object as the first layer in the model instead.\n",
      "  super().__init__(**kwargs)\n"
     ]
    },
    {
     "name": "stdout",
     "output_type": "stream",
     "text": [
      "finito pipo\n",
      "\u001b[1m60/60\u001b[0m \u001b[32m━━━━━━━━━━━━━━━━━━━━\u001b[0m\u001b[37m\u001b[0m \u001b[1m0s\u001b[0m 4ms/step\n",
      "\u001b[1m8/8\u001b[0m \u001b[32m━━━━━━━━━━━━━━━━━━━━\u001b[0m\u001b[37m\u001b[0m \u001b[1m0s\u001b[0m 1ms/step \n",
      "MSE: 20.66793201356448\n",
      "current_solution [128, 'tanh', 0.2, 64, 'tanh', 0.2, 64, 'relu', 1, 'linear', 0.001, 300, 40]\n",
      "neighbor [128, 'tanh', 0.2, 64, 'tanh', 0.88, 64, 'relu', 1, 'linear', 0.001, 300, 40]\n",
      "mse diff: -4.469540524469988\n",
      "accept new solution [128, 'tanh', 0.2, 64, 'tanh', 0.88, 64, 'relu', 1, 'linear', 0.001, 300, 40]\n",
      "temp 13.122, mse 20.66793201356448, best_mse 9.100579228191672\n",
      "params [128, 'tanh', 0.2, 64, 'tanh', 0.88, 232, 'relu', 1, 'linear', 0.001, 300, 40]\n"
     ]
    },
    {
     "name": "stderr",
     "output_type": "stream",
     "text": [
      "/home/quentin/Desktop/Optimization/.venv/lib/python3.12/site-packages/keras/src/layers/rnn/rnn.py:204: UserWarning: Do not pass an `input_shape`/`input_dim` argument to a layer. When using Sequential models, prefer using an `Input(shape)` object as the first layer in the model instead.\n",
      "  super().__init__(**kwargs)\n"
     ]
    },
    {
     "name": "stdout",
     "output_type": "stream",
     "text": [
      "finito pipo\n",
      "\u001b[1m60/60\u001b[0m \u001b[32m━━━━━━━━━━━━━━━━━━━━\u001b[0m\u001b[37m\u001b[0m \u001b[1m0s\u001b[0m 4ms/step\n",
      "\u001b[1m8/8\u001b[0m \u001b[32m━━━━━━━━━━━━━━━━━━━━\u001b[0m\u001b[37m\u001b[0m \u001b[1m0s\u001b[0m 1ms/step \n",
      "MSE: 19.104380468311206\n",
      "current_solution [128, 'tanh', 0.2, 64, 'tanh', 0.88, 64, 'relu', 1, 'linear', 0.001, 300, 40]\n",
      "neighbor [128, 'tanh', 0.2, 64, 'tanh', 0.88, 232, 'relu', 1, 'linear', 0.001, 300, 40]\n",
      "mse diff: -1.5635515452532758\n",
      "accept new solution [128, 'tanh', 0.2, 64, 'tanh', 0.88, 232, 'relu', 1, 'linear', 0.001, 300, 40]\n",
      "temp 11.809800000000001, mse 19.104380468311206, best_mse 9.100579228191672\n",
      "params [128, 'tanh', 0.2, 64, 'tanh', 0.88, 232, 'relu', 1, 'linear', 0.0005, 300, 40]\n"
     ]
    },
    {
     "name": "stderr",
     "output_type": "stream",
     "text": [
      "/home/quentin/Desktop/Optimization/.venv/lib/python3.12/site-packages/keras/src/layers/rnn/rnn.py:204: UserWarning: Do not pass an `input_shape`/`input_dim` argument to a layer. When using Sequential models, prefer using an `Input(shape)` object as the first layer in the model instead.\n",
      "  super().__init__(**kwargs)\n"
     ]
    },
    {
     "name": "stdout",
     "output_type": "stream",
     "text": [
      "finito pipo\n",
      "\u001b[1m60/60\u001b[0m \u001b[32m━━━━━━━━━━━━━━━━━━━━\u001b[0m\u001b[37m\u001b[0m \u001b[1m0s\u001b[0m 4ms/step\n",
      "\u001b[1m8/8\u001b[0m \u001b[32m━━━━━━━━━━━━━━━━━━━━\u001b[0m\u001b[37m\u001b[0m \u001b[1m0s\u001b[0m 1ms/step \n",
      "MSE: 20.23295515312238\n",
      "current_solution [128, 'tanh', 0.2, 64, 'tanh', 0.88, 232, 'relu', 1, 'linear', 0.001, 300, 40]\n",
      "neighbor [128, 'tanh', 0.2, 64, 'tanh', 0.88, 232, 'relu', 1, 'linear', 0.0005, 300, 40]\n",
      "mse diff: 1.1285746848111735\n",
      "accept new solution [128, 'tanh', 0.2, 64, 'tanh', 0.88, 232, 'relu', 1, 'linear', 0.0005, 300, 40]\n",
      "temp 10.628820000000001, mse 20.23295515312238, best_mse 9.100579228191672\n",
      "params [104, 'tanh', 0.2, 64, 'tanh', 0.88, 232, 'relu', 1, 'linear', 0.0005, 300, 40]\n"
     ]
    },
    {
     "name": "stderr",
     "output_type": "stream",
     "text": [
      "/home/quentin/Desktop/Optimization/.venv/lib/python3.12/site-packages/keras/src/layers/rnn/rnn.py:204: UserWarning: Do not pass an `input_shape`/`input_dim` argument to a layer. When using Sequential models, prefer using an `Input(shape)` object as the first layer in the model instead.\n",
      "  super().__init__(**kwargs)\n"
     ]
    },
    {
     "name": "stdout",
     "output_type": "stream",
     "text": [
      "finito pipo\n",
      "\u001b[1m60/60\u001b[0m \u001b[32m━━━━━━━━━━━━━━━━━━━━\u001b[0m\u001b[37m\u001b[0m \u001b[1m0s\u001b[0m 4ms/step\n",
      "\u001b[1m8/8\u001b[0m \u001b[32m━━━━━━━━━━━━━━━━━━━━\u001b[0m\u001b[37m\u001b[0m \u001b[1m0s\u001b[0m 1ms/step \n",
      "MSE: 19.10320785281136\n",
      "current_solution [128, 'tanh', 0.2, 64, 'tanh', 0.88, 232, 'relu', 1, 'linear', 0.0005, 300, 40]\n",
      "neighbor [104, 'tanh', 0.2, 64, 'tanh', 0.88, 232, 'relu', 1, 'linear', 0.0005, 300, 40]\n",
      "mse diff: -1.1297473003110206\n",
      "accept new solution [104, 'tanh', 0.2, 64, 'tanh', 0.88, 232, 'relu', 1, 'linear', 0.0005, 300, 40]\n",
      "temp 9.565938000000001, mse 19.10320785281136, best_mse 9.100579228191672\n",
      "params [104, 'tanh', 0.2, 64, 'tanh', 0.88, 232, 'relu', 1, 'linear', 0.0005, 300, 96]\n"
     ]
    },
    {
     "name": "stderr",
     "output_type": "stream",
     "text": [
      "/home/quentin/Desktop/Optimization/.venv/lib/python3.12/site-packages/keras/src/layers/rnn/rnn.py:204: UserWarning: Do not pass an `input_shape`/`input_dim` argument to a layer. When using Sequential models, prefer using an `Input(shape)` object as the first layer in the model instead.\n",
      "  super().__init__(**kwargs)\n"
     ]
    },
    {
     "name": "stdout",
     "output_type": "stream",
     "text": [
      "finito pipo\n",
      "\u001b[1m60/60\u001b[0m \u001b[32m━━━━━━━━━━━━━━━━━━━━\u001b[0m\u001b[37m\u001b[0m \u001b[1m0s\u001b[0m 4ms/step\n",
      "\u001b[1m8/8\u001b[0m \u001b[32m━━━━━━━━━━━━━━━━━━━━\u001b[0m\u001b[37m\u001b[0m \u001b[1m0s\u001b[0m 1ms/step \n",
      "MSE: 34.03866777862196\n",
      "current_solution [104, 'tanh', 0.2, 64, 'tanh', 0.88, 232, 'relu', 1, 'linear', 0.0005, 300, 40]\n",
      "neighbor [104, 'tanh', 0.2, 64, 'tanh', 0.88, 232, 'relu', 1, 'linear', 0.0005, 300, 96]\n",
      "mse diff: 14.935459925810598\n",
      "accept new solution [104, 'tanh', 0.2, 64, 'tanh', 0.88, 232, 'relu', 1, 'linear', 0.0005, 300, 96]\n",
      "temp 8.6093442, mse 34.03866777862196, best_mse 9.100579228191672\n",
      "params [104, 'tanh', 0.2, 64, 'tanh', 0.88, 232, 'relu', 1, 'linear', 0.0005, 250, 96]\n"
     ]
    },
    {
     "name": "stderr",
     "output_type": "stream",
     "text": [
      "/home/quentin/Desktop/Optimization/.venv/lib/python3.12/site-packages/keras/src/layers/rnn/rnn.py:204: UserWarning: Do not pass an `input_shape`/`input_dim` argument to a layer. When using Sequential models, prefer using an `Input(shape)` object as the first layer in the model instead.\n",
      "  super().__init__(**kwargs)\n"
     ]
    },
    {
     "name": "stdout",
     "output_type": "stream",
     "text": [
      "finito pipo\n",
      "\u001b[1m60/60\u001b[0m \u001b[32m━━━━━━━━━━━━━━━━━━━━\u001b[0m\u001b[37m\u001b[0m \u001b[1m0s\u001b[0m 4ms/step\n",
      "\u001b[1m8/8\u001b[0m \u001b[32m━━━━━━━━━━━━━━━━━━━━\u001b[0m\u001b[37m\u001b[0m \u001b[1m0s\u001b[0m 1ms/step \n",
      "MSE: 40.26949144217806\n",
      "current_solution [104, 'tanh', 0.2, 64, 'tanh', 0.88, 232, 'relu', 1, 'linear', 0.0005, 300, 96]\n",
      "neighbor [104, 'tanh', 0.2, 64, 'tanh', 0.88, 232, 'relu', 1, 'linear', 0.0005, 250, 96]\n",
      "mse diff: 6.230823663556102\n",
      "temp 7.748409780000001, mse 34.03866777862196, best_mse 9.100579228191672\n",
      "params [104, 'sigmoid', 0.2, 64, 'tanh', 0.88, 232, 'relu', 1, 'linear', 0.0005, 300, 96]\n"
     ]
    },
    {
     "name": "stderr",
     "output_type": "stream",
     "text": [
      "/home/quentin/Desktop/Optimization/.venv/lib/python3.12/site-packages/keras/src/layers/rnn/rnn.py:204: UserWarning: Do not pass an `input_shape`/`input_dim` argument to a layer. When using Sequential models, prefer using an `Input(shape)` object as the first layer in the model instead.\n",
      "  super().__init__(**kwargs)\n"
     ]
    },
    {
     "name": "stdout",
     "output_type": "stream",
     "text": [
      "finito pipo\n",
      "\u001b[1m60/60\u001b[0m \u001b[32m━━━━━━━━━━━━━━━━━━━━\u001b[0m\u001b[37m\u001b[0m \u001b[1m1s\u001b[0m 6ms/step\n",
      "\u001b[1m8/8\u001b[0m \u001b[32m━━━━━━━━━━━━━━━━━━━━\u001b[0m\u001b[37m\u001b[0m \u001b[1m0s\u001b[0m 4ms/step \n",
      "MSE: 160.404183713931\n",
      "current_solution [104, 'tanh', 0.2, 64, 'tanh', 0.88, 232, 'relu', 1, 'linear', 0.0005, 300, 96]\n",
      "neighbor [104, 'sigmoid', 0.2, 64, 'tanh', 0.88, 232, 'relu', 1, 'linear', 0.0005, 300, 96]\n",
      "mse diff: 126.36551593530903\n",
      "temp 6.973568802000001, mse 34.03866777862196, best_mse 9.100579228191672\n",
      "params [104, 'tanh', 0.2, 64, 'linear', 0.88, 232, 'relu', 1, 'linear', 0.0005, 300, 96]\n"
     ]
    },
    {
     "name": "stderr",
     "output_type": "stream",
     "text": [
      "/home/quentin/Desktop/Optimization/.venv/lib/python3.12/site-packages/keras/src/layers/rnn/rnn.py:204: UserWarning: Do not pass an `input_shape`/`input_dim` argument to a layer. When using Sequential models, prefer using an `Input(shape)` object as the first layer in the model instead.\n",
      "  super().__init__(**kwargs)\n"
     ]
    },
    {
     "name": "stdout",
     "output_type": "stream",
     "text": [
      "finito pipo\n",
      "\u001b[1m60/60\u001b[0m \u001b[32m━━━━━━━━━━━━━━━━━━━━\u001b[0m\u001b[37m\u001b[0m \u001b[1m1s\u001b[0m 6ms/step\n",
      "\u001b[1m8/8\u001b[0m \u001b[32m━━━━━━━━━━━━━━━━━━━━\u001b[0m\u001b[37m\u001b[0m \u001b[1m0s\u001b[0m 3ms/step \n",
      "MSE: 874.3393283065915\n",
      "current_solution [104, 'tanh', 0.2, 64, 'tanh', 0.88, 232, 'relu', 1, 'linear', 0.0005, 300, 96]\n",
      "neighbor [104, 'tanh', 0.2, 64, 'linear', 0.88, 232, 'relu', 1, 'linear', 0.0005, 300, 96]\n",
      "mse diff: 840.3006605279695\n",
      "temp 6.276211921800001, mse 34.03866777862196, best_mse 9.100579228191672\n",
      "params [104, 'tanh', 0.2, 64, 'tanh', 0.88, 232, 'tanh', 1, 'linear', 0.0005, 300, 96]\n"
     ]
    },
    {
     "name": "stderr",
     "output_type": "stream",
     "text": [
      "/home/quentin/Desktop/Optimization/.venv/lib/python3.12/site-packages/keras/src/layers/rnn/rnn.py:204: UserWarning: Do not pass an `input_shape`/`input_dim` argument to a layer. When using Sequential models, prefer using an `Input(shape)` object as the first layer in the model instead.\n",
      "  super().__init__(**kwargs)\n"
     ]
    },
    {
     "name": "stdout",
     "output_type": "stream",
     "text": [
      "finito pipo\n",
      "\u001b[1m60/60\u001b[0m \u001b[32m━━━━━━━━━━━━━━━━━━━━\u001b[0m\u001b[37m\u001b[0m \u001b[1m0s\u001b[0m 4ms/step\n",
      "\u001b[1m8/8\u001b[0m \u001b[32m━━━━━━━━━━━━━━━━━━━━\u001b[0m\u001b[37m\u001b[0m \u001b[1m0s\u001b[0m 1ms/step \n",
      "MSE: 24.734338283512606\n",
      "current_solution [104, 'tanh', 0.2, 64, 'tanh', 0.88, 232, 'relu', 1, 'linear', 0.0005, 300, 96]\n",
      "neighbor [104, 'tanh', 0.2, 64, 'tanh', 0.88, 232, 'tanh', 1, 'linear', 0.0005, 300, 96]\n",
      "mse diff: -9.30432949510935\n",
      "accept new solution [104, 'tanh', 0.2, 64, 'tanh', 0.88, 232, 'tanh', 1, 'linear', 0.0005, 300, 96]\n",
      "temp 5.64859072962, mse 24.734338283512606, best_mse 9.100579228191672\n",
      "params [104, 'tanh', 0.2, 64, 'tanh', 0.88, 168, 'tanh', 1, 'linear', 0.0005, 300, 96]\n"
     ]
    },
    {
     "name": "stderr",
     "output_type": "stream",
     "text": [
      "/home/quentin/Desktop/Optimization/.venv/lib/python3.12/site-packages/keras/src/layers/rnn/rnn.py:204: UserWarning: Do not pass an `input_shape`/`input_dim` argument to a layer. When using Sequential models, prefer using an `Input(shape)` object as the first layer in the model instead.\n",
      "  super().__init__(**kwargs)\n"
     ]
    },
    {
     "name": "stdout",
     "output_type": "stream",
     "text": [
      "finito pipo\n",
      "\u001b[1m60/60\u001b[0m \u001b[32m━━━━━━━━━━━━━━━━━━━━\u001b[0m\u001b[37m\u001b[0m \u001b[1m0s\u001b[0m 4ms/step\n",
      "\u001b[1m8/8\u001b[0m \u001b[32m━━━━━━━━━━━━━━━━━━━━\u001b[0m\u001b[37m\u001b[0m \u001b[1m0s\u001b[0m 1ms/step \n",
      "MSE: 56.69763696431396\n",
      "current_solution [104, 'tanh', 0.2, 64, 'tanh', 0.88, 232, 'tanh', 1, 'linear', 0.0005, 300, 96]\n",
      "neighbor [104, 'tanh', 0.2, 64, 'tanh', 0.88, 168, 'tanh', 1, 'linear', 0.0005, 300, 96]\n",
      "mse diff: 31.96329868080135\n",
      "temp 5.083731656658, mse 24.734338283512606, best_mse 9.100579228191672\n",
      "params [104, 'tanh', 0.2, 240, 'tanh', 0.88, 232, 'tanh', 1, 'linear', 0.0005, 300, 96]\n"
     ]
    },
    {
     "name": "stderr",
     "output_type": "stream",
     "text": [
      "/home/quentin/Desktop/Optimization/.venv/lib/python3.12/site-packages/keras/src/layers/rnn/rnn.py:204: UserWarning: Do not pass an `input_shape`/`input_dim` argument to a layer. When using Sequential models, prefer using an `Input(shape)` object as the first layer in the model instead.\n",
      "  super().__init__(**kwargs)\n"
     ]
    },
    {
     "name": "stdout",
     "output_type": "stream",
     "text": [
      "finito pipo\n",
      "\u001b[1m60/60\u001b[0m \u001b[32m━━━━━━━━━━━━━━━━━━━━\u001b[0m\u001b[37m\u001b[0m \u001b[1m0s\u001b[0m 4ms/step\n",
      "\u001b[1m8/8\u001b[0m \u001b[32m━━━━━━━━━━━━━━━━━━━━\u001b[0m\u001b[37m\u001b[0m \u001b[1m0s\u001b[0m 2ms/step \n",
      "MSE: 17.715669977285117\n",
      "current_solution [104, 'tanh', 0.2, 64, 'tanh', 0.88, 232, 'tanh', 1, 'linear', 0.0005, 300, 96]\n",
      "neighbor [104, 'tanh', 0.2, 240, 'tanh', 0.88, 232, 'tanh', 1, 'linear', 0.0005, 300, 96]\n",
      "mse diff: -7.0186683062274895\n",
      "accept new solution [104, 'tanh', 0.2, 240, 'tanh', 0.88, 232, 'tanh', 1, 'linear', 0.0005, 300, 96]\n",
      "temp 4.5753584909922, mse 17.715669977285117, best_mse 9.100579228191672\n",
      "params [104, 'tanh', 0.2, 240, 'tanh', 0.88, 232, 'tanh', 1, 'linear', 0.0005, 300, 96]\n"
     ]
    },
    {
     "name": "stderr",
     "output_type": "stream",
     "text": [
      "/home/quentin/Desktop/Optimization/.venv/lib/python3.12/site-packages/keras/src/layers/rnn/rnn.py:204: UserWarning: Do not pass an `input_shape`/`input_dim` argument to a layer. When using Sequential models, prefer using an `Input(shape)` object as the first layer in the model instead.\n",
      "  super().__init__(**kwargs)\n"
     ]
    },
    {
     "name": "stdout",
     "output_type": "stream",
     "text": [
      "finito pipo\n",
      "\u001b[1m60/60\u001b[0m \u001b[32m━━━━━━━━━━━━━━━━━━━━\u001b[0m\u001b[37m\u001b[0m \u001b[1m0s\u001b[0m 4ms/step\n",
      "\u001b[1m8/8\u001b[0m \u001b[32m━━━━━━━━━━━━━━━━━━━━\u001b[0m\u001b[37m\u001b[0m \u001b[1m0s\u001b[0m 1ms/step \n",
      "MSE: 21.059256579758177\n",
      "current_solution [104, 'tanh', 0.2, 240, 'tanh', 0.88, 232, 'tanh', 1, 'linear', 0.0005, 300, 96]\n",
      "neighbor [104, 'tanh', 0.2, 240, 'tanh', 0.88, 232, 'tanh', 1, 'linear', 0.0005, 300, 96]\n",
      "mse diff: 3.34358660247306\n",
      "accept new solution [104, 'tanh', 0.2, 240, 'tanh', 0.88, 232, 'tanh', 1, 'linear', 0.0005, 300, 96]\n",
      "temp 4.11782264189298, mse 21.059256579758177, best_mse 9.100579228191672\n",
      "params [104, 'tanh', 0.11, 240, 'tanh', 0.88, 232, 'tanh', 1, 'linear', 0.0005, 300, 96]\n"
     ]
    },
    {
     "name": "stderr",
     "output_type": "stream",
     "text": [
      "/home/quentin/Desktop/Optimization/.venv/lib/python3.12/site-packages/keras/src/layers/rnn/rnn.py:204: UserWarning: Do not pass an `input_shape`/`input_dim` argument to a layer. When using Sequential models, prefer using an `Input(shape)` object as the first layer in the model instead.\n",
      "  super().__init__(**kwargs)\n"
     ]
    },
    {
     "name": "stdout",
     "output_type": "stream",
     "text": [
      "finito pipo\n",
      "\u001b[1m60/60\u001b[0m \u001b[32m━━━━━━━━━━━━━━━━━━━━\u001b[0m\u001b[37m\u001b[0m \u001b[1m0s\u001b[0m 4ms/step\n",
      "\u001b[1m8/8\u001b[0m \u001b[32m━━━━━━━━━━━━━━━━━━━━\u001b[0m\u001b[37m\u001b[0m \u001b[1m0s\u001b[0m 1ms/step \n",
      "MSE: 25.971644870626807\n",
      "current_solution [104, 'tanh', 0.2, 240, 'tanh', 0.88, 232, 'tanh', 1, 'linear', 0.0005, 300, 96]\n",
      "neighbor [104, 'tanh', 0.11, 240, 'tanh', 0.88, 232, 'tanh', 1, 'linear', 0.0005, 300, 96]\n",
      "mse diff: 4.9123882908686305\n",
      "accept new solution [104, 'tanh', 0.11, 240, 'tanh', 0.88, 232, 'tanh', 1, 'linear', 0.0005, 300, 96]\n",
      "temp 3.706040377703682, mse 25.971644870626807, best_mse 9.100579228191672\n",
      "params [152, 'tanh', 0.11, 240, 'tanh', 0.88, 232, 'tanh', 1, 'linear', 0.0005, 300, 96]\n"
     ]
    },
    {
     "name": "stderr",
     "output_type": "stream",
     "text": [
      "/home/quentin/Desktop/Optimization/.venv/lib/python3.12/site-packages/keras/src/layers/rnn/rnn.py:204: UserWarning: Do not pass an `input_shape`/`input_dim` argument to a layer. When using Sequential models, prefer using an `Input(shape)` object as the first layer in the model instead.\n",
      "  super().__init__(**kwargs)\n"
     ]
    },
    {
     "name": "stdout",
     "output_type": "stream",
     "text": [
      "finito pipo\n",
      "\u001b[1m60/60\u001b[0m \u001b[32m━━━━━━━━━━━━━━━━━━━━\u001b[0m\u001b[37m\u001b[0m \u001b[1m0s\u001b[0m 4ms/step\n",
      "\u001b[1m8/8\u001b[0m \u001b[32m━━━━━━━━━━━━━━━━━━━━\u001b[0m\u001b[37m\u001b[0m \u001b[1m0s\u001b[0m 1ms/step \n",
      "MSE: 14.406862700141078\n",
      "current_solution [104, 'tanh', 0.11, 240, 'tanh', 0.88, 232, 'tanh', 1, 'linear', 0.0005, 300, 96]\n",
      "neighbor [152, 'tanh', 0.11, 240, 'tanh', 0.88, 232, 'tanh', 1, 'linear', 0.0005, 300, 96]\n",
      "mse diff: -11.56478217048573\n",
      "accept new solution [152, 'tanh', 0.11, 240, 'tanh', 0.88, 232, 'tanh', 1, 'linear', 0.0005, 300, 96]\n",
      "temp 3.3354363399333136, mse 14.406862700141078, best_mse 9.100579228191672\n",
      "params [152, 'tanh', 0.11, 240, 'tanh', 0.1, 232, 'tanh', 1, 'linear', 0.0005, 300, 96]\n"
     ]
    },
    {
     "name": "stderr",
     "output_type": "stream",
     "text": [
      "/home/quentin/Desktop/Optimization/.venv/lib/python3.12/site-packages/keras/src/layers/rnn/rnn.py:204: UserWarning: Do not pass an `input_shape`/`input_dim` argument to a layer. When using Sequential models, prefer using an `Input(shape)` object as the first layer in the model instead.\n",
      "  super().__init__(**kwargs)\n"
     ]
    },
    {
     "name": "stdout",
     "output_type": "stream",
     "text": [
      "finito pipo\n",
      "\u001b[1m60/60\u001b[0m \u001b[32m━━━━━━━━━━━━━━━━━━━━\u001b[0m\u001b[37m\u001b[0m \u001b[1m1s\u001b[0m 6ms/step\n",
      "\u001b[1m8/8\u001b[0m \u001b[32m━━━━━━━━━━━━━━━━━━━━\u001b[0m\u001b[37m\u001b[0m \u001b[1m0s\u001b[0m 2ms/step \n",
      "MSE: 13.672926465036467\n",
      "current_solution [152, 'tanh', 0.11, 240, 'tanh', 0.88, 232, 'tanh', 1, 'linear', 0.0005, 300, 96]\n",
      "neighbor [152, 'tanh', 0.11, 240, 'tanh', 0.1, 232, 'tanh', 1, 'linear', 0.0005, 300, 96]\n",
      "mse diff: -0.7339362351046113\n",
      "accept new solution [152, 'tanh', 0.11, 240, 'tanh', 0.1, 232, 'tanh', 1, 'linear', 0.0005, 300, 96]\n",
      "temp 3.0018927059399823, mse 13.672926465036467, best_mse 9.100579228191672\n",
      "params [152, 'tanh', 0.11, 240, 'tanh', 0.1, 232, 'tanh', 1, 'linear', 0.0005, 260, 96]\n"
     ]
    },
    {
     "name": "stderr",
     "output_type": "stream",
     "text": [
      "/home/quentin/Desktop/Optimization/.venv/lib/python3.12/site-packages/keras/src/layers/rnn/rnn.py:204: UserWarning: Do not pass an `input_shape`/`input_dim` argument to a layer. When using Sequential models, prefer using an `Input(shape)` object as the first layer in the model instead.\n",
      "  super().__init__(**kwargs)\n"
     ]
    },
    {
     "name": "stdout",
     "output_type": "stream",
     "text": [
      "finito pipo\n",
      "\u001b[1m60/60\u001b[0m \u001b[32m━━━━━━━━━━━━━━━━━━━━\u001b[0m\u001b[37m\u001b[0m \u001b[1m1s\u001b[0m 7ms/step\n",
      "\u001b[1m8/8\u001b[0m \u001b[32m━━━━━━━━━━━━━━━━━━━━\u001b[0m\u001b[37m\u001b[0m \u001b[1m0s\u001b[0m 3ms/step \n",
      "MSE: 8.870418376384357\n",
      "current_solution [152, 'tanh', 0.11, 240, 'tanh', 0.1, 232, 'tanh', 1, 'linear', 0.0005, 300, 96]\n",
      "neighbor [152, 'tanh', 0.11, 240, 'tanh', 0.1, 232, 'tanh', 1, 'linear', 0.0005, 260, 96]\n",
      "mse diff: -4.802508088652109\n",
      "accept new solution [152, 'tanh', 0.11, 240, 'tanh', 0.1, 232, 'tanh', 1, 'linear', 0.0005, 260, 96]\n",
      "better solution\n",
      "temp 2.701703435345984, mse 8.870418376384357, best_mse 8.870418376384357\n",
      "params [152, 'tanh', 0.11, 240, 'tanh', 0.1, 232, 'tanh', 1, 'linear', 0.0005, 260, 112]\n"
     ]
    },
    {
     "name": "stderr",
     "output_type": "stream",
     "text": [
      "/home/quentin/Desktop/Optimization/.venv/lib/python3.12/site-packages/keras/src/layers/rnn/rnn.py:204: UserWarning: Do not pass an `input_shape`/`input_dim` argument to a layer. When using Sequential models, prefer using an `Input(shape)` object as the first layer in the model instead.\n",
      "  super().__init__(**kwargs)\n"
     ]
    },
    {
     "name": "stdout",
     "output_type": "stream",
     "text": [
      "finito pipo\n",
      "\u001b[1m60/60\u001b[0m \u001b[32m━━━━━━━━━━━━━━━━━━━━\u001b[0m\u001b[37m\u001b[0m \u001b[1m1s\u001b[0m 7ms/step\n",
      "\u001b[1m8/8\u001b[0m \u001b[32m━━━━━━━━━━━━━━━━━━━━\u001b[0m\u001b[37m\u001b[0m \u001b[1m0s\u001b[0m 3ms/step \n",
      "MSE: 8.205579603963766\n",
      "current_solution [152, 'tanh', 0.11, 240, 'tanh', 0.1, 232, 'tanh', 1, 'linear', 0.0005, 260, 96]\n",
      "neighbor [152, 'tanh', 0.11, 240, 'tanh', 0.1, 232, 'tanh', 1, 'linear', 0.0005, 260, 112]\n",
      "mse diff: -0.6648387724205911\n",
      "accept new solution [152, 'tanh', 0.11, 240, 'tanh', 0.1, 232, 'tanh', 1, 'linear', 0.0005, 260, 112]\n",
      "better solution\n",
      "temp 2.4315330918113855, mse 8.205579603963766, best_mse 8.205579603963766\n",
      "params [152, 'tanh', 0.11, 240, 'tanh', 0.1, 232, 'tanh', 1, 'linear', 0.0005, 270, 112]\n"
     ]
    },
    {
     "name": "stderr",
     "output_type": "stream",
     "text": [
      "/home/quentin/Desktop/Optimization/.venv/lib/python3.12/site-packages/keras/src/layers/rnn/rnn.py:204: UserWarning: Do not pass an `input_shape`/`input_dim` argument to a layer. When using Sequential models, prefer using an `Input(shape)` object as the first layer in the model instead.\n",
      "  super().__init__(**kwargs)\n"
     ]
    },
    {
     "name": "stdout",
     "output_type": "stream",
     "text": [
      "finito pipo\n",
      "\u001b[1m60/60\u001b[0m \u001b[32m━━━━━━━━━━━━━━━━━━━━\u001b[0m\u001b[37m\u001b[0m \u001b[1m1s\u001b[0m 6ms/step\n",
      "\u001b[1m8/8\u001b[0m \u001b[32m━━━━━━━━━━━━━━━━━━━━\u001b[0m\u001b[37m\u001b[0m \u001b[1m0s\u001b[0m 3ms/step \n",
      "MSE: 10.666425993876032\n",
      "current_solution [152, 'tanh', 0.11, 240, 'tanh', 0.1, 232, 'tanh', 1, 'linear', 0.0005, 260, 112]\n",
      "neighbor [152, 'tanh', 0.11, 240, 'tanh', 0.1, 232, 'tanh', 1, 'linear', 0.0005, 270, 112]\n",
      "mse diff: 2.460846389912266\n",
      "temp 2.188379782630247, mse 8.205579603963766, best_mse 8.205579603963766\n",
      "params [152, 'tanh', 0.11, 240, 'tanh', 0.1, 96, 'tanh', 1, 'linear', 0.0005, 260, 112]\n"
     ]
    },
    {
     "name": "stderr",
     "output_type": "stream",
     "text": [
      "/home/quentin/Desktop/Optimization/.venv/lib/python3.12/site-packages/keras/src/layers/rnn/rnn.py:204: UserWarning: Do not pass an `input_shape`/`input_dim` argument to a layer. When using Sequential models, prefer using an `Input(shape)` object as the first layer in the model instead.\n",
      "  super().__init__(**kwargs)\n"
     ]
    },
    {
     "name": "stdout",
     "output_type": "stream",
     "text": [
      "finito pipo\n",
      "\u001b[1m60/60\u001b[0m \u001b[32m━━━━━━━━━━━━━━━━━━━━\u001b[0m\u001b[37m\u001b[0m \u001b[1m1s\u001b[0m 8ms/step\n",
      "\u001b[1m8/8\u001b[0m \u001b[32m━━━━━━━━━━━━━━━━━━━━\u001b[0m\u001b[37m\u001b[0m \u001b[1m0s\u001b[0m 2ms/step \n",
      "MSE: 9.173322425071914\n",
      "current_solution [152, 'tanh', 0.11, 240, 'tanh', 0.1, 232, 'tanh', 1, 'linear', 0.0005, 260, 112]\n",
      "neighbor [152, 'tanh', 0.11, 240, 'tanh', 0.1, 96, 'tanh', 1, 'linear', 0.0005, 260, 112]\n",
      "mse diff: 0.967742821108148\n",
      "temp 1.9695418043672224, mse 8.205579603963766, best_mse 8.205579603963766\n",
      "params [152, 'tanh', 0.11, 240, 'tanh', 0.1, 232, 'tanh', 1, 'linear', 0.0005, 200, 112]\n"
     ]
    },
    {
     "name": "stderr",
     "output_type": "stream",
     "text": [
      "/home/quentin/Desktop/Optimization/.venv/lib/python3.12/site-packages/keras/src/layers/rnn/rnn.py:204: UserWarning: Do not pass an `input_shape`/`input_dim` argument to a layer. When using Sequential models, prefer using an `Input(shape)` object as the first layer in the model instead.\n",
      "  super().__init__(**kwargs)\n"
     ]
    },
    {
     "name": "stdout",
     "output_type": "stream",
     "text": [
      "finito pipo\n",
      "\u001b[1m60/60\u001b[0m \u001b[32m━━━━━━━━━━━━━━━━━━━━\u001b[0m\u001b[37m\u001b[0m \u001b[1m1s\u001b[0m 7ms/step\n",
      "\u001b[1m8/8\u001b[0m \u001b[32m━━━━━━━━━━━━━━━━━━━━\u001b[0m\u001b[37m\u001b[0m \u001b[1m0s\u001b[0m 3ms/step \n",
      "MSE: 11.040194138348893\n",
      "current_solution [152, 'tanh', 0.11, 240, 'tanh', 0.1, 232, 'tanh', 1, 'linear', 0.0005, 260, 112]\n",
      "neighbor [152, 'tanh', 0.11, 240, 'tanh', 0.1, 232, 'tanh', 1, 'linear', 0.0005, 200, 112]\n",
      "mse diff: 2.8346145343851266\n",
      "temp 1.7725876239305, mse 8.205579603963766, best_mse 8.205579603963766\n",
      "params [152, 'tanh', 0.11, 240, 'hard_sigmoid', 0.1, 232, 'tanh', 1, 'linear', 0.0005, 260, 112]\n"
     ]
    },
    {
     "name": "stderr",
     "output_type": "stream",
     "text": [
      "/home/quentin/Desktop/Optimization/.venv/lib/python3.12/site-packages/keras/src/layers/rnn/rnn.py:204: UserWarning: Do not pass an `input_shape`/`input_dim` argument to a layer. When using Sequential models, prefer using an `Input(shape)` object as the first layer in the model instead.\n",
      "  super().__init__(**kwargs)\n"
     ]
    },
    {
     "name": "stdout",
     "output_type": "stream",
     "text": [
      "finito pipo\n",
      "\u001b[1m60/60\u001b[0m \u001b[32m━━━━━━━━━━━━━━━━━━━━\u001b[0m\u001b[37m\u001b[0m \u001b[1m1s\u001b[0m 11ms/step\n",
      "\u001b[1m8/8\u001b[0m \u001b[32m━━━━━━━━━━━━━━━━━━━━\u001b[0m\u001b[37m\u001b[0m \u001b[1m0s\u001b[0m 6ms/step \n",
      "MSE: 17.42129374731214\n",
      "current_solution [152, 'tanh', 0.11, 240, 'tanh', 0.1, 232, 'tanh', 1, 'linear', 0.0005, 260, 112]\n",
      "neighbor [152, 'tanh', 0.11, 240, 'hard_sigmoid', 0.1, 232, 'tanh', 1, 'linear', 0.0005, 260, 112]\n",
      "mse diff: 9.215714143348375\n",
      "temp 1.5953288615374501, mse 8.205579603963766, best_mse 8.205579603963766\n",
      "params [80, 'tanh', 0.11, 240, 'tanh', 0.1, 232, 'tanh', 1, 'linear', 0.0005, 260, 112]\n"
     ]
    },
    {
     "name": "stderr",
     "output_type": "stream",
     "text": [
      "/home/quentin/Desktop/Optimization/.venv/lib/python3.12/site-packages/keras/src/layers/rnn/rnn.py:204: UserWarning: Do not pass an `input_shape`/`input_dim` argument to a layer. When using Sequential models, prefer using an `Input(shape)` object as the first layer in the model instead.\n",
      "  super().__init__(**kwargs)\n"
     ]
    },
    {
     "name": "stdout",
     "output_type": "stream",
     "text": [
      "finito pipo\n",
      "\u001b[1m60/60\u001b[0m \u001b[32m━━━━━━━━━━━━━━━━━━━━\u001b[0m\u001b[37m\u001b[0m \u001b[1m1s\u001b[0m 6ms/step\n",
      "\u001b[1m8/8\u001b[0m \u001b[32m━━━━━━━━━━━━━━━━━━━━\u001b[0m\u001b[37m\u001b[0m \u001b[1m0s\u001b[0m 3ms/step \n",
      "MSE: 13.178031336457073\n",
      "current_solution [152, 'tanh', 0.11, 240, 'tanh', 0.1, 232, 'tanh', 1, 'linear', 0.0005, 260, 112]\n",
      "neighbor [80, 'tanh', 0.11, 240, 'tanh', 0.1, 232, 'tanh', 1, 'linear', 0.0005, 260, 112]\n",
      "mse diff: 4.972451732493306\n",
      "temp 1.435795975383705, mse 8.205579603963766, best_mse 8.205579603963766\n",
      "params [152, 'tanh', 0.11, 240, 'tanh', 0.1, 232, 'tanh', 1, 'linear', 0.0005, 260, 112]\n"
     ]
    },
    {
     "name": "stderr",
     "output_type": "stream",
     "text": [
      "/home/quentin/Desktop/Optimization/.venv/lib/python3.12/site-packages/keras/src/layers/rnn/rnn.py:204: UserWarning: Do not pass an `input_shape`/`input_dim` argument to a layer. When using Sequential models, prefer using an `Input(shape)` object as the first layer in the model instead.\n",
      "  super().__init__(**kwargs)\n"
     ]
    },
    {
     "name": "stdout",
     "output_type": "stream",
     "text": [
      "finito pipo\n",
      "\u001b[1m60/60\u001b[0m \u001b[32m━━━━━━━━━━━━━━━━━━━━\u001b[0m\u001b[37m\u001b[0m \u001b[1m1s\u001b[0m 8ms/step\n",
      "\u001b[1m8/8\u001b[0m \u001b[32m━━━━━━━━━━━━━━━━━━━━\u001b[0m\u001b[37m\u001b[0m \u001b[1m0s\u001b[0m 3ms/step \n",
      "MSE: 12.748475361681407\n",
      "current_solution [152, 'tanh', 0.11, 240, 'tanh', 0.1, 232, 'tanh', 1, 'linear', 0.0005, 260, 112]\n",
      "neighbor [152, 'tanh', 0.11, 240, 'tanh', 0.1, 232, 'tanh', 1, 'linear', 0.0005, 260, 112]\n",
      "mse diff: 4.542895757717641\n",
      "temp 1.2922163778453346, mse 8.205579603963766, best_mse 8.205579603963766\n",
      "params [152, 'tanh', 0.11, 240, 'tanh', 0.24, 232, 'tanh', 1, 'linear', 0.0005, 260, 112]\n"
     ]
    },
    {
     "name": "stderr",
     "output_type": "stream",
     "text": [
      "/home/quentin/Desktop/Optimization/.venv/lib/python3.12/site-packages/keras/src/layers/rnn/rnn.py:204: UserWarning: Do not pass an `input_shape`/`input_dim` argument to a layer. When using Sequential models, prefer using an `Input(shape)` object as the first layer in the model instead.\n",
      "  super().__init__(**kwargs)\n"
     ]
    },
    {
     "name": "stdout",
     "output_type": "stream",
     "text": [
      "finito pipo\n",
      "\u001b[1m60/60\u001b[0m \u001b[32m━━━━━━━━━━━━━━━━━━━━\u001b[0m\u001b[37m\u001b[0m \u001b[1m1s\u001b[0m 7ms/step\n",
      "\u001b[1m8/8\u001b[0m \u001b[32m━━━━━━━━━━━━━━━━━━━━\u001b[0m\u001b[37m\u001b[0m \u001b[1m0s\u001b[0m 2ms/step \n",
      "MSE: 15.29803113337373\n",
      "current_solution [152, 'tanh', 0.11, 240, 'tanh', 0.1, 232, 'tanh', 1, 'linear', 0.0005, 260, 112]\n",
      "neighbor [152, 'tanh', 0.11, 240, 'tanh', 0.24, 232, 'tanh', 1, 'linear', 0.0005, 260, 112]\n",
      "mse diff: 7.0924515294099635\n",
      "temp 1.1629947400608012, mse 8.205579603963766, best_mse 8.205579603963766\n",
      "params [152, 'tanh', 0.11, 240, 'tanh', 0.1, 232, 'sigmoid', 1, 'linear', 0.0005, 260, 112]\n"
     ]
    },
    {
     "name": "stderr",
     "output_type": "stream",
     "text": [
      "/home/quentin/Desktop/Optimization/.venv/lib/python3.12/site-packages/keras/src/layers/rnn/rnn.py:204: UserWarning: Do not pass an `input_shape`/`input_dim` argument to a layer. When using Sequential models, prefer using an `Input(shape)` object as the first layer in the model instead.\n",
      "  super().__init__(**kwargs)\n"
     ]
    },
    {
     "name": "stdout",
     "output_type": "stream",
     "text": [
      "finito pipo\n",
      "\u001b[1m60/60\u001b[0m \u001b[32m━━━━━━━━━━━━━━━━━━━━\u001b[0m\u001b[37m\u001b[0m \u001b[1m1s\u001b[0m 6ms/step\n",
      "\u001b[1m8/8\u001b[0m \u001b[32m━━━━━━━━━━━━━━━━━━━━\u001b[0m\u001b[37m\u001b[0m \u001b[1m0s\u001b[0m 2ms/step \n",
      "MSE: 15.685008263411232\n",
      "current_solution [152, 'tanh', 0.11, 240, 'tanh', 0.1, 232, 'tanh', 1, 'linear', 0.0005, 260, 112]\n",
      "neighbor [152, 'tanh', 0.11, 240, 'tanh', 0.1, 232, 'sigmoid', 1, 'linear', 0.0005, 260, 112]\n",
      "mse diff: 7.479428659447466\n",
      "temp 1.046695266054721, mse 8.205579603963766, best_mse 8.205579603963766\n",
      "params [152, 'tanh', 0.11, 240, 'tanh', 0.1, 232, 'tanh', 1, 'linear', 0.0008, 260, 112]\n"
     ]
    },
    {
     "name": "stderr",
     "output_type": "stream",
     "text": [
      "/home/quentin/Desktop/Optimization/.venv/lib/python3.12/site-packages/keras/src/layers/rnn/rnn.py:204: UserWarning: Do not pass an `input_shape`/`input_dim` argument to a layer. When using Sequential models, prefer using an `Input(shape)` object as the first layer in the model instead.\n",
      "  super().__init__(**kwargs)\n"
     ]
    },
    {
     "name": "stdout",
     "output_type": "stream",
     "text": [
      "finito pipo\n",
      "\u001b[1m60/60\u001b[0m \u001b[32m━━━━━━━━━━━━━━━━━━━━\u001b[0m\u001b[37m\u001b[0m \u001b[1m1s\u001b[0m 8ms/step\n",
      "\u001b[1m8/8\u001b[0m \u001b[32m━━━━━━━━━━━━━━━━━━━━\u001b[0m\u001b[37m\u001b[0m \u001b[1m0s\u001b[0m 3ms/step \n",
      "MSE: 9.648349360433434\n",
      "current_solution [152, 'tanh', 0.11, 240, 'tanh', 0.1, 232, 'tanh', 1, 'linear', 0.0005, 260, 112]\n",
      "neighbor [152, 'tanh', 0.11, 240, 'tanh', 0.1, 232, 'tanh', 1, 'linear', 0.0008, 260, 112]\n",
      "mse diff: 1.4427697564696675\n",
      "temp 0.9420257394492489, mse 8.205579603963766, best_mse 8.205579603963766\n",
      "params [152, 'tanh', 0.11, 240, 'tanh', 0.1, 232, 'tanh', 1, 'linear', 0.0005, 260, 112]\n"
     ]
    },
    {
     "name": "stderr",
     "output_type": "stream",
     "text": [
      "/home/quentin/Desktop/Optimization/.venv/lib/python3.12/site-packages/keras/src/layers/rnn/rnn.py:204: UserWarning: Do not pass an `input_shape`/`input_dim` argument to a layer. When using Sequential models, prefer using an `Input(shape)` object as the first layer in the model instead.\n",
      "  super().__init__(**kwargs)\n"
     ]
    },
    {
     "name": "stdout",
     "output_type": "stream",
     "text": [
      "finito pipo\n",
      "\u001b[1m60/60\u001b[0m \u001b[32m━━━━━━━━━━━━━━━━━━━━\u001b[0m\u001b[37m\u001b[0m \u001b[1m1s\u001b[0m 6ms/step\n",
      "\u001b[1m8/8\u001b[0m \u001b[32m━━━━━━━━━━━━━━━━━━━━\u001b[0m\u001b[37m\u001b[0m \u001b[1m0s\u001b[0m 2ms/step \n",
      "MSE: 10.137295629362093\n",
      "current_solution [152, 'tanh', 0.11, 240, 'tanh', 0.1, 232, 'tanh', 1, 'linear', 0.0005, 260, 112]\n",
      "neighbor [152, 'tanh', 0.11, 240, 'tanh', 0.1, 232, 'tanh', 1, 'linear', 0.0005, 260, 112]\n",
      "mse diff: 1.9317160253983268\n",
      "accept new solution [152, 'tanh', 0.11, 240, 'tanh', 0.1, 232, 'tanh', 1, 'linear', 0.0005, 260, 112]\n",
      "temp 0.847823165504324, mse 10.137295629362093, best_mse 8.205579603963766\n",
      "params [152, 'tanh', 0.11, 240, 'tanh', 0.1, 232, 'tanh', 1, 'linear', 0.0005, 370, 112]\n"
     ]
    },
    {
     "name": "stderr",
     "output_type": "stream",
     "text": [
      "/home/quentin/Desktop/Optimization/.venv/lib/python3.12/site-packages/keras/src/layers/rnn/rnn.py:204: UserWarning: Do not pass an `input_shape`/`input_dim` argument to a layer. When using Sequential models, prefer using an `Input(shape)` object as the first layer in the model instead.\n",
      "  super().__init__(**kwargs)\n"
     ]
    },
    {
     "name": "stdout",
     "output_type": "stream",
     "text": [
      "finito pipo\n",
      "\u001b[1m60/60\u001b[0m \u001b[32m━━━━━━━━━━━━━━━━━━━━\u001b[0m\u001b[37m\u001b[0m \u001b[1m1s\u001b[0m 6ms/step\n",
      "\u001b[1m8/8\u001b[0m \u001b[32m━━━━━━━━━━━━━━━━━━━━\u001b[0m\u001b[37m\u001b[0m \u001b[1m0s\u001b[0m 3ms/step \n",
      "MSE: 7.397676969646944\n",
      "current_solution [152, 'tanh', 0.11, 240, 'tanh', 0.1, 232, 'tanh', 1, 'linear', 0.0005, 260, 112]\n",
      "neighbor [152, 'tanh', 0.11, 240, 'tanh', 0.1, 232, 'tanh', 1, 'linear', 0.0005, 370, 112]\n",
      "mse diff: -2.7396186597151493\n",
      "accept new solution [152, 'tanh', 0.11, 240, 'tanh', 0.1, 232, 'tanh', 1, 'linear', 0.0005, 370, 112]\n",
      "better solution\n",
      "temp 0.7630408489538917, mse 7.397676969646944, best_mse 7.397676969646944\n",
      "params [152, 'tanh', 0.11, 240, 'tanh', 0.1, 192, 'tanh', 1, 'linear', 0.0005, 370, 112]\n"
     ]
    },
    {
     "name": "stderr",
     "output_type": "stream",
     "text": [
      "/home/quentin/Desktop/Optimization/.venv/lib/python3.12/site-packages/keras/src/layers/rnn/rnn.py:204: UserWarning: Do not pass an `input_shape`/`input_dim` argument to a layer. When using Sequential models, prefer using an `Input(shape)` object as the first layer in the model instead.\n",
      "  super().__init__(**kwargs)\n"
     ]
    },
    {
     "name": "stdout",
     "output_type": "stream",
     "text": [
      "finito pipo\n",
      "\u001b[1m60/60\u001b[0m \u001b[32m━━━━━━━━━━━━━━━━━━━━\u001b[0m\u001b[37m\u001b[0m \u001b[1m1s\u001b[0m 6ms/step\n",
      "\u001b[1m8/8\u001b[0m \u001b[32m━━━━━━━━━━━━━━━━━━━━\u001b[0m\u001b[37m\u001b[0m \u001b[1m0s\u001b[0m 3ms/step \n",
      "MSE: 14.674587998570777\n",
      "current_solution [152, 'tanh', 0.11, 240, 'tanh', 0.1, 232, 'tanh', 1, 'linear', 0.0005, 370, 112]\n",
      "neighbor [152, 'tanh', 0.11, 240, 'tanh', 0.1, 192, 'tanh', 1, 'linear', 0.0005, 370, 112]\n",
      "mse diff: 7.276911028923833\n",
      "temp 0.6867367640585025, mse 7.397676969646944, best_mse 7.397676969646944\n",
      "params [152, 'tanh', 0.11, 240, 'tanh', 0.1, 232, 'tanh', 1, 'linear', 0.0005, 370, 112]\n"
     ]
    },
    {
     "name": "stderr",
     "output_type": "stream",
     "text": [
      "/home/quentin/Desktop/Optimization/.venv/lib/python3.12/site-packages/keras/src/layers/rnn/rnn.py:204: UserWarning: Do not pass an `input_shape`/`input_dim` argument to a layer. When using Sequential models, prefer using an `Input(shape)` object as the first layer in the model instead.\n",
      "  super().__init__(**kwargs)\n"
     ]
    },
    {
     "name": "stdout",
     "output_type": "stream",
     "text": [
      "finito pipo\n",
      "\u001b[1m60/60\u001b[0m \u001b[32m━━━━━━━━━━━━━━━━━━━━\u001b[0m\u001b[37m\u001b[0m \u001b[1m1s\u001b[0m 8ms/step\n",
      "\u001b[1m8/8\u001b[0m \u001b[32m━━━━━━━━━━━━━━━━━━━━\u001b[0m\u001b[37m\u001b[0m \u001b[1m0s\u001b[0m 4ms/step \n",
      "MSE: 9.403612479608064\n",
      "current_solution [152, 'tanh', 0.11, 240, 'tanh', 0.1, 232, 'tanh', 1, 'linear', 0.0005, 370, 112]\n",
      "neighbor [152, 'tanh', 0.11, 240, 'tanh', 0.1, 232, 'tanh', 1, 'linear', 0.0005, 370, 112]\n",
      "mse diff: 2.0059355099611205\n",
      "temp 0.6180630876526523, mse 7.397676969646944, best_mse 7.397676969646944\n",
      "params [152, 'tanh', 0.11, 240, 'tanh', 0.1, 232, 'tanh', 1, 'linear', 0.0005, 380, 112]\n"
     ]
    },
    {
     "name": "stderr",
     "output_type": "stream",
     "text": [
      "/home/quentin/Desktop/Optimization/.venv/lib/python3.12/site-packages/keras/src/layers/rnn/rnn.py:204: UserWarning: Do not pass an `input_shape`/`input_dim` argument to a layer. When using Sequential models, prefer using an `Input(shape)` object as the first layer in the model instead.\n",
      "  super().__init__(**kwargs)\n"
     ]
    },
    {
     "name": "stdout",
     "output_type": "stream",
     "text": [
      "finito pipo\n",
      "\u001b[1m60/60\u001b[0m \u001b[32m━━━━━━━━━━━━━━━━━━━━\u001b[0m\u001b[37m\u001b[0m \u001b[1m1s\u001b[0m 9ms/step\n",
      "\u001b[1m8/8\u001b[0m \u001b[32m━━━━━━━━━━━━━━━━━━━━\u001b[0m\u001b[37m\u001b[0m \u001b[1m0s\u001b[0m 5ms/step \n",
      "MSE: 15.236924954922808\n",
      "current_solution [152, 'tanh', 0.11, 240, 'tanh', 0.1, 232, 'tanh', 1, 'linear', 0.0005, 370, 112]\n",
      "neighbor [152, 'tanh', 0.11, 240, 'tanh', 0.1, 232, 'tanh', 1, 'linear', 0.0005, 380, 112]\n",
      "mse diff: 7.839247985275864\n",
      "temp 0.5562567788873871, mse 7.397676969646944, best_mse 7.397676969646944\n",
      "params [152, 'tanh', 0.21, 240, 'tanh', 0.1, 232, 'tanh', 1, 'linear', 0.0005, 370, 112]\n"
     ]
    },
    {
     "name": "stderr",
     "output_type": "stream",
     "text": [
      "/home/quentin/Desktop/Optimization/.venv/lib/python3.12/site-packages/keras/src/layers/rnn/rnn.py:204: UserWarning: Do not pass an `input_shape`/`input_dim` argument to a layer. When using Sequential models, prefer using an `Input(shape)` object as the first layer in the model instead.\n",
      "  super().__init__(**kwargs)\n"
     ]
    },
    {
     "name": "stdout",
     "output_type": "stream",
     "text": [
      "finito pipo\n",
      "\u001b[1m60/60\u001b[0m \u001b[32m━━━━━━━━━━━━━━━━━━━━\u001b[0m\u001b[37m\u001b[0m \u001b[1m1s\u001b[0m 8ms/step\n",
      "\u001b[1m8/8\u001b[0m \u001b[32m━━━━━━━━━━━━━━━━━━━━\u001b[0m\u001b[37m\u001b[0m \u001b[1m0s\u001b[0m 3ms/step \n",
      "MSE: 10.121555315933433\n",
      "current_solution [152, 'tanh', 0.11, 240, 'tanh', 0.1, 232, 'tanh', 1, 'linear', 0.0005, 370, 112]\n",
      "neighbor [152, 'tanh', 0.21, 240, 'tanh', 0.1, 232, 'tanh', 1, 'linear', 0.0005, 370, 112]\n",
      "mse diff: 2.7238783462864893\n",
      "temp 0.5006311009986484, mse 7.397676969646944, best_mse 7.397676969646944\n",
      "params [152, 'tanh', 0.11, 200, 'tanh', 0.1, 232, 'tanh', 1, 'linear', 0.0005, 370, 112]\n"
     ]
    },
    {
     "name": "stderr",
     "output_type": "stream",
     "text": [
      "/home/quentin/Desktop/Optimization/.venv/lib/python3.12/site-packages/keras/src/layers/rnn/rnn.py:204: UserWarning: Do not pass an `input_shape`/`input_dim` argument to a layer. When using Sequential models, prefer using an `Input(shape)` object as the first layer in the model instead.\n",
      "  super().__init__(**kwargs)\n"
     ]
    },
    {
     "name": "stdout",
     "output_type": "stream",
     "text": [
      "finito pipo\n",
      "\u001b[1m60/60\u001b[0m \u001b[32m━━━━━━━━━━━━━━━━━━━━\u001b[0m\u001b[37m\u001b[0m \u001b[1m1s\u001b[0m 6ms/step\n",
      "\u001b[1m8/8\u001b[0m \u001b[32m━━━━━━━━━━━━━━━━━━━━\u001b[0m\u001b[37m\u001b[0m \u001b[1m0s\u001b[0m 2ms/step \n",
      "MSE: 13.484387448179948\n",
      "current_solution [152, 'tanh', 0.11, 240, 'tanh', 0.1, 232, 'tanh', 1, 'linear', 0.0005, 370, 112]\n",
      "neighbor [152, 'tanh', 0.11, 200, 'tanh', 0.1, 232, 'tanh', 1, 'linear', 0.0005, 370, 112]\n",
      "mse diff: 6.086710478533004\n",
      "temp 0.4505679908987836, mse 7.397676969646944, best_mse 7.397676969646944\n",
      "params [152, 'tanh', 0.11, 240, 'tanh', 0.1, 232, 'sigmoid', 1, 'linear', 0.0005, 370, 112]\n"
     ]
    },
    {
     "name": "stderr",
     "output_type": "stream",
     "text": [
      "/home/quentin/Desktop/Optimization/.venv/lib/python3.12/site-packages/keras/src/layers/rnn/rnn.py:204: UserWarning: Do not pass an `input_shape`/`input_dim` argument to a layer. When using Sequential models, prefer using an `Input(shape)` object as the first layer in the model instead.\n",
      "  super().__init__(**kwargs)\n"
     ]
    },
    {
     "name": "stdout",
     "output_type": "stream",
     "text": [
      "finito pipo\n",
      "\u001b[1m60/60\u001b[0m \u001b[32m━━━━━━━━━━━━━━━━━━━━\u001b[0m\u001b[37m\u001b[0m \u001b[1m1s\u001b[0m 6ms/step\n",
      "\u001b[1m8/8\u001b[0m \u001b[32m━━━━━━━━━━━━━━━━━━━━\u001b[0m\u001b[37m\u001b[0m \u001b[1m0s\u001b[0m 3ms/step \n",
      "MSE: 9.408285247203425\n",
      "current_solution [152, 'tanh', 0.11, 240, 'tanh', 0.1, 232, 'tanh', 1, 'linear', 0.0005, 370, 112]\n",
      "neighbor [152, 'tanh', 0.11, 240, 'tanh', 0.1, 232, 'sigmoid', 1, 'linear', 0.0005, 370, 112]\n",
      "mse diff: 2.0106082775564813\n",
      "temp 0.4055111918089052, mse 7.397676969646944, best_mse 7.397676969646944\n",
      "params [152, 'tanh', 0.11, 240, 'tanh', 0.1, 232, 'tanh', 1, 'linear', 0.0005, 320, 112]\n"
     ]
    },
    {
     "name": "stderr",
     "output_type": "stream",
     "text": [
      "/home/quentin/Desktop/Optimization/.venv/lib/python3.12/site-packages/keras/src/layers/rnn/rnn.py:204: UserWarning: Do not pass an `input_shape`/`input_dim` argument to a layer. When using Sequential models, prefer using an `Input(shape)` object as the first layer in the model instead.\n",
      "  super().__init__(**kwargs)\n"
     ]
    },
    {
     "name": "stdout",
     "output_type": "stream",
     "text": [
      "finito pipo\n",
      "\u001b[1m60/60\u001b[0m \u001b[32m━━━━━━━━━━━━━━━━━━━━\u001b[0m\u001b[37m\u001b[0m \u001b[1m1s\u001b[0m 7ms/step\n",
      "\u001b[1m8/8\u001b[0m \u001b[32m━━━━━━━━━━━━━━━━━━━━\u001b[0m\u001b[37m\u001b[0m \u001b[1m0s\u001b[0m 3ms/step \n",
      "MSE: 15.621134056064962\n",
      "current_solution [152, 'tanh', 0.11, 240, 'tanh', 0.1, 232, 'tanh', 1, 'linear', 0.0005, 370, 112]\n",
      "neighbor [152, 'tanh', 0.11, 240, 'tanh', 0.1, 232, 'tanh', 1, 'linear', 0.0005, 320, 112]\n",
      "mse diff: 8.22345708641802\n",
      "temp 0.3649600726280147, mse 7.397676969646944, best_mse 7.397676969646944\n",
      "params [152, 'tanh', 0.11, 240, 'tanh', 0.1, 232, 'tanh', 1, 'linear', 0.0005, 370, 112]\n"
     ]
    },
    {
     "name": "stderr",
     "output_type": "stream",
     "text": [
      "/home/quentin/Desktop/Optimization/.venv/lib/python3.12/site-packages/keras/src/layers/rnn/rnn.py:204: UserWarning: Do not pass an `input_shape`/`input_dim` argument to a layer. When using Sequential models, prefer using an `Input(shape)` object as the first layer in the model instead.\n",
      "  super().__init__(**kwargs)\n"
     ]
    },
    {
     "name": "stdout",
     "output_type": "stream",
     "text": [
      "finito pipo\n",
      "\u001b[1m60/60\u001b[0m \u001b[32m━━━━━━━━━━━━━━━━━━━━\u001b[0m\u001b[37m\u001b[0m \u001b[1m1s\u001b[0m 6ms/step\n",
      "\u001b[1m8/8\u001b[0m \u001b[32m━━━━━━━━━━━━━━━━━━━━\u001b[0m\u001b[37m\u001b[0m \u001b[1m0s\u001b[0m 2ms/step \n",
      "MSE: 12.608612916015803\n",
      "current_solution [152, 'tanh', 0.11, 240, 'tanh', 0.1, 232, 'tanh', 1, 'linear', 0.0005, 370, 112]\n",
      "neighbor [152, 'tanh', 0.11, 240, 'tanh', 0.1, 232, 'tanh', 1, 'linear', 0.0005, 370, 112]\n",
      "mse diff: 5.210935946368859\n",
      "temp 0.3284640653652133, mse 7.397676969646944, best_mse 7.397676969646944\n",
      "params [152, 'tanh', 0.11, 240, 'tanh', 0.1, 232, 'tanh', 1, 'linear', 0.0001, 370, 112]\n"
     ]
    },
    {
     "name": "stderr",
     "output_type": "stream",
     "text": [
      "/home/quentin/Desktop/Optimization/.venv/lib/python3.12/site-packages/keras/src/layers/rnn/rnn.py:204: UserWarning: Do not pass an `input_shape`/`input_dim` argument to a layer. When using Sequential models, prefer using an `Input(shape)` object as the first layer in the model instead.\n",
      "  super().__init__(**kwargs)\n"
     ]
    },
    {
     "name": "stdout",
     "output_type": "stream",
     "text": [
      "finito pipo\n",
      "\u001b[1m60/60\u001b[0m \u001b[32m━━━━━━━━━━━━━━━━━━━━\u001b[0m\u001b[37m\u001b[0m \u001b[1m1s\u001b[0m 7ms/step\n",
      "\u001b[1m8/8\u001b[0m \u001b[32m━━━━━━━━━━━━━━━━━━━━\u001b[0m\u001b[37m\u001b[0m \u001b[1m0s\u001b[0m 2ms/step \n",
      "MSE: 16.13563906864203\n",
      "current_solution [152, 'tanh', 0.11, 240, 'tanh', 0.1, 232, 'tanh', 1, 'linear', 0.0005, 370, 112]\n",
      "neighbor [152, 'tanh', 0.11, 240, 'tanh', 0.1, 232, 'tanh', 1, 'linear', 0.0001, 370, 112]\n",
      "mse diff: 8.737962098995084\n",
      "temp 0.29561765882869195, mse 7.397676969646944, best_mse 7.397676969646944\n",
      "params [152, 'linear', 0.11, 240, 'tanh', 0.1, 232, 'tanh', 1, 'linear', 0.0005, 370, 112]\n"
     ]
    },
    {
     "name": "stderr",
     "output_type": "stream",
     "text": [
      "/home/quentin/Desktop/Optimization/.venv/lib/python3.12/site-packages/keras/src/layers/rnn/rnn.py:204: UserWarning: Do not pass an `input_shape`/`input_dim` argument to a layer. When using Sequential models, prefer using an `Input(shape)` object as the first layer in the model instead.\n",
      "  super().__init__(**kwargs)\n"
     ]
    },
    {
     "name": "stdout",
     "output_type": "stream",
     "text": [
      "finito pipo\n",
      "\u001b[1m60/60\u001b[0m \u001b[32m━━━━━━━━━━━━━━━━━━━━\u001b[0m\u001b[37m\u001b[0m \u001b[1m1s\u001b[0m 11ms/step\n",
      "\u001b[1m8/8\u001b[0m \u001b[32m━━━━━━━━━━━━━━━━━━━━\u001b[0m\u001b[37m\u001b[0m \u001b[1m0s\u001b[0m 7ms/step \n",
      "MSE: 3.9198657488914677\n",
      "current_solution [152, 'tanh', 0.11, 240, 'tanh', 0.1, 232, 'tanh', 1, 'linear', 0.0005, 370, 112]\n",
      "neighbor [152, 'linear', 0.11, 240, 'tanh', 0.1, 232, 'tanh', 1, 'linear', 0.0005, 370, 112]\n",
      "mse diff: -3.477811220755476\n",
      "accept new solution [152, 'linear', 0.11, 240, 'tanh', 0.1, 232, 'tanh', 1, 'linear', 0.0005, 370, 112]\n",
      "better solution\n",
      "temp 0.26605589294582277, mse 3.9198657488914677, best_mse 3.9198657488914677\n",
      "params [152, 'linear', 0.47000000000000003, 240, 'tanh', 0.1, 232, 'tanh', 1, 'linear', 0.0005, 370, 112]\n"
     ]
    },
    {
     "name": "stderr",
     "output_type": "stream",
     "text": [
      "/home/quentin/Desktop/Optimization/.venv/lib/python3.12/site-packages/keras/src/layers/rnn/rnn.py:204: UserWarning: Do not pass an `input_shape`/`input_dim` argument to a layer. When using Sequential models, prefer using an `Input(shape)` object as the first layer in the model instead.\n",
      "  super().__init__(**kwargs)\n"
     ]
    },
    {
     "name": "stdout",
     "output_type": "stream",
     "text": [
      "finito pipo\n",
      "\u001b[1m60/60\u001b[0m \u001b[32m━━━━━━━━━━━━━━━━━━━━\u001b[0m\u001b[37m\u001b[0m \u001b[1m1s\u001b[0m 11ms/step\n",
      "\u001b[1m8/8\u001b[0m \u001b[32m━━━━━━━━━━━━━━━━━━━━\u001b[0m\u001b[37m\u001b[0m \u001b[1m0s\u001b[0m 7ms/step \n",
      "MSE: 11.790928423996132\n",
      "current_solution [152, 'linear', 0.11, 240, 'tanh', 0.1, 232, 'tanh', 1, 'linear', 0.0005, 370, 112]\n",
      "neighbor [152, 'linear', 0.47000000000000003, 240, 'tanh', 0.1, 232, 'tanh', 1, 'linear', 0.0005, 370, 112]\n",
      "mse diff: 7.871062675104664\n",
      "temp 0.2394503036512405, mse 3.9198657488914677, best_mse 3.9198657488914677\n",
      "params [152, 'linear', 0.11, 240, 'tanh', 0.1, 232, 'tanh', 1, 'linear', 0.0005, 370, 112]\n"
     ]
    },
    {
     "name": "stderr",
     "output_type": "stream",
     "text": [
      "/home/quentin/Desktop/Optimization/.venv/lib/python3.12/site-packages/keras/src/layers/rnn/rnn.py:204: UserWarning: Do not pass an `input_shape`/`input_dim` argument to a layer. When using Sequential models, prefer using an `Input(shape)` object as the first layer in the model instead.\n",
      "  super().__init__(**kwargs)\n"
     ]
    },
    {
     "name": "stdout",
     "output_type": "stream",
     "text": [
      "finito pipo\n",
      "\u001b[1m60/60\u001b[0m \u001b[32m━━━━━━━━━━━━━━━━━━━━\u001b[0m\u001b[37m\u001b[0m \u001b[1m1s\u001b[0m 9ms/step\n",
      "\u001b[1m8/8\u001b[0m \u001b[32m━━━━━━━━━━━━━━━━━━━━\u001b[0m\u001b[37m\u001b[0m \u001b[1m0s\u001b[0m 6ms/step \n",
      "MSE: 10.007672175485583\n",
      "current_solution [152, 'linear', 0.11, 240, 'tanh', 0.1, 232, 'tanh', 1, 'linear', 0.0005, 370, 112]\n",
      "neighbor [152, 'linear', 0.11, 240, 'tanh', 0.1, 232, 'tanh', 1, 'linear', 0.0005, 370, 112]\n",
      "mse diff: 6.087806426594115\n",
      "temp 0.21550527328611646, mse 3.9198657488914677, best_mse 3.9198657488914677\n",
      "params [152, 'linear', 0.11, 240, 'tanh', 0.22, 232, 'tanh', 1, 'linear', 0.0005, 370, 112]\n"
     ]
    },
    {
     "name": "stderr",
     "output_type": "stream",
     "text": [
      "/home/quentin/Desktop/Optimization/.venv/lib/python3.12/site-packages/keras/src/layers/rnn/rnn.py:204: UserWarning: Do not pass an `input_shape`/`input_dim` argument to a layer. When using Sequential models, prefer using an `Input(shape)` object as the first layer in the model instead.\n",
      "  super().__init__(**kwargs)\n"
     ]
    },
    {
     "name": "stdout",
     "output_type": "stream",
     "text": [
      "finito pipo\n",
      "\u001b[1m60/60\u001b[0m \u001b[32m━━━━━━━━━━━━━━━━━━━━\u001b[0m\u001b[37m\u001b[0m \u001b[1m1s\u001b[0m 10ms/step\n",
      "\u001b[1m8/8\u001b[0m \u001b[32m━━━━━━━━━━━━━━━━━━━━\u001b[0m\u001b[37m\u001b[0m \u001b[1m0s\u001b[0m 6ms/step \n",
      "MSE: 130.22082102399523\n",
      "current_solution [152, 'linear', 0.11, 240, 'tanh', 0.1, 232, 'tanh', 1, 'linear', 0.0005, 370, 112]\n",
      "neighbor [152, 'linear', 0.11, 240, 'tanh', 0.22, 232, 'tanh', 1, 'linear', 0.0005, 370, 112]\n",
      "mse diff: 126.30095527510376\n",
      "temp 0.1939547459575048, mse 3.9198657488914677, best_mse 3.9198657488914677\n",
      "Best parameters: [152, 'linear', 0.11, 240, 'tanh', 0.1, 232, 'tanh', 1, 'linear', 0.0005, 370, 112]\n",
      "Best mse: 3.9198657488914677\n"
     ]
    }
   ],
   "source": [
    "import random\n",
    "import math\n",
    "import logging\n",
    "import time\n",
    "import tensorflow as tf\n",
    "from keras.layers import Dense, LSTM, Dropout\n",
    "from keras.models import Sequential\n",
    "from keras.optimizers import Adam\n",
    "from sklearn.metrics import mean_squared_error\n",
    "from sklearn.preprocessing import MinMaxScaler\n",
    "import numpy as np\n",
    "import pandas as pd\n",
    "\n",
    "data = pd.read_csv('../projet_recherche/sampled_data.csv')\n",
    "data.head()\n",
    "\n",
    "data_train = data[data['building_id'] != 8]\n",
    "data_test = data[data['building_id'] == 8]\n",
    "\n",
    "data_train.shape, data_test.shape\n",
    "\n",
    "\n",
    "target_column = 'production'\n",
    "\n",
    "x_train = data_train.drop(target_column, axis=1)\n",
    "y_train = data_train[target_column].values.reshape(-1, 1)\n",
    "\n",
    "x_test = data_test.drop(target_column, axis=1)\n",
    "y_test = data_test[target_column].values.reshape(-1, 1)\n",
    "\n",
    "\n",
    "x_scaler = MinMaxScaler(feature_range=(0, 1))\n",
    "x_scaler.fit(x_train)\n",
    "\n",
    "x_train_scaled = x_scaler.transform(x_train)\n",
    "x_test_scaled = x_scaler.transform(x_test)\n",
    "\n",
    "\n",
    "def get_windows(x, y, window_size):\n",
    "    x_windows, y_windows = [], []\n",
    "\n",
    "    for i in range(len(x) - window_size):\n",
    "        x_window = x[i:i+window_size]\n",
    "        y_window = y[i:i+window_size]\n",
    "\n",
    "        x_window = np.hstack((x_window, y_window))\n",
    "\n",
    "        x_windows.append(x_window)\n",
    "        y_windows.append(y[i+window_size])\n",
    "\n",
    "    return np.array(x_windows), np.array(y_windows)\n",
    "\n",
    "\n",
    "x_train_windows, y_train_windows = get_windows(x_train_scaled, y_train, 10)\n",
    "x_test_windows, y_test_windows = get_windows(x_test_scaled, y_test, 10)\n",
    "\n",
    "\n",
    "tf.random.set_seed(42)\n",
    "\n",
    "\n",
    "def evaluate_model(y_true, y_pred):\n",
    "    mse = mean_squared_error(y_true, y_pred)\n",
    "    print(f\"MSE: {mse}\")\n",
    "    return mse\n",
    "\n",
    "\n",
    "# Define the parameter ranges\n",
    "LSTM1_units = list(range(16, 256, 8))\n",
    "LSTM1_activation = ['tanh', 'relu', 'sigmoid', 'hard_sigmoid', 'linear']\n",
    "DROPOUT1_rate = list(np.arange(0, 0.9, 0.01))\n",
    "LSTM2_units = list(range(16, 256, 8))\n",
    "LSTM2_activation = ['tanh', 'relu', 'sigmoid', 'hard_sigmoid', 'linear']\n",
    "DROPOUT2_rate = list(np.arange(0, 0.9, 0.01))\n",
    "DENSE1_units = list(range(16, 256, 8))\n",
    "DENSE1_activation = ['tanh', 'relu', 'sigmoid', 'hard_sigmoid', 'linear']\n",
    "DENSE2_units = [1]\n",
    "DENSE2_activation = ['linear']\n",
    "OPTIMIZER_learning_rate = list(np.arange(0, 0.001, 0.0001))\n",
    "EPOCHS = list(range(200, 400, 10))\n",
    "BATCH_SIZE = list(range(32, 128, 8))\n",
    "\n",
    "\n",
    "def objective_function(params):\n",
    "    # Unpack the parameters with names\n",
    "    print(f\"lstm1_units: {params['lstm1_units']}, activation: {params['lstm1_activation']}, dropout1_rate: {params['dropout1_rate']}\")\n",
    "    print(f\"lstm2_units: {params['lstm2_units']}, activation: {params['lstm2_activation']}, dropout2_rate: {params['dropout2_rate']}\")\n",
    "    print(f\"dense1_units: {params['dense1_units']}, activation: {params['dense1_activation']}\")\n",
    "    print(f\"dense2_units: {params['dense2_units']}, activation: {params['dense2_activation']}\")\n",
    "    print(f\"optimizer_learning_rate: {params['optimizer_learning_rate']}, epochs: {params['epochs']}, batch_size: {params['batch_size']}\")\n",
    "    lstm1_units, lstm1_activation, dropout1_rate, lstm2_units, lstm2_activation, dropout2_rate, dense1_units, dense1_activation, dense2_units, dense2_activation, optimizer_learning_rate, epochs, batch_size = params\n",
    "\n",
    "    model = Sequential([\n",
    "        LSTM(lstm1_units, activation=lstm1_activation, input_shape=(\n",
    "            x_train_windows.shape[1:]), return_sequences=True),\n",
    "        Dropout(dropout1_rate),\n",
    "\n",
    "        LSTM(lstm2_units, activation=lstm2_activation, return_sequences=False),\n",
    "        Dropout(dropout2_rate),\n",
    "\n",
    "        Dense(dense1_units, activation=dense1_activation),\n",
    "        Dense(dense2_units, activation=dense2_activation)\n",
    "    ])\n",
    "\n",
    "    optimizer = Adam(learning_rate=optimizer_learning_rate)\n",
    "    model.compile(optimizer=optimizer, loss='mean_absolute_error')\n",
    "\n",
    "    try:\n",
    "\n",
    "        start_time = time.time()\n",
    "        history = model.fit(x=x_train_windows,\n",
    "                            y=y_train_windows,\n",
    "                            epochs=epochs,\n",
    "                            batch_size=batch_size,\n",
    "                            validation_split=0.2,\n",
    "                            shuffle=False,\n",
    "                            verbose=0)\n",
    "        training_duration = time.time() - start_time\n",
    "    finally:\n",
    "        print(\"finito pipo\")\n",
    "        # tracker.stop()\n",
    "\n",
    "    y_pred_train = model.predict(x_train_windows)\n",
    "    y_pred_test = model.predict(x_test_windows)\n",
    "    performance_metric = evaluate_model(y_test_windows, y_pred_test)\n",
    "\n",
    "    return performance_metric\n",
    "\n",
    "\n",
    "def simulated_annealing(initial_temp, final_temp, alpha, max_iterations):\n",
    "    # Initialize the default solution \n",
    "    current_solution = [\n",
    "        128, \"tanh\", 0.2,\n",
    "        64, \"tanh\", 0.2,\n",
    "        64, \"relu\", 1, \"linear\",\n",
    "        0.001, 300, 128\n",
    "    ]\n",
    "    current_mse = objective_function(current_solution)\n",
    "    best_solution = current_solution\n",
    "    best_mse = current_mse\n",
    "    temp = initial_temp\n",
    "\n",
    "    for iteration in range(max_iterations):\n",
    "        if temp < final_temp:\n",
    "            break\n",
    "\n",
    "        # Generate a neighboring solution\n",
    "        neighbor = list(current_solution)\n",
    "        param_index = random.randint(0, len(current_solution) - 1)\n",
    "        if param_index == 0:\n",
    "            neighbor[param_index] = random.choice(LSTM1_units)\n",
    "        elif param_index == 1:\n",
    "            neighbor[param_index] = random.choice(LSTM1_activation)\n",
    "        elif param_index == 2:\n",
    "            neighbor[param_index] = random.choice(DROPOUT1_rate)\n",
    "        elif param_index == 3:\n",
    "            neighbor[param_index] = random.choice(LSTM2_units)\n",
    "        elif param_index == 4:\n",
    "            neighbor[param_index] = random.choice(LSTM2_activation)\n",
    "        elif param_index == 5:\n",
    "            neighbor[param_index] = random.choice(DROPOUT2_rate)\n",
    "        elif param_index == 6:\n",
    "            neighbor[param_index] = random.choice(DENSE1_units)\n",
    "        elif param_index == 7:\n",
    "            neighbor[param_index] = random.choice(DENSE1_activation)\n",
    "        elif param_index == 8:\n",
    "            neighbor[param_index] = random.choice(DENSE2_units)\n",
    "        elif param_index == 9:\n",
    "            neighbor[param_index] = random.choice(DENSE2_activation)\n",
    "        elif param_index == 10:\n",
    "            neighbor[param_index] = random.choice(OPTIMIZER_learning_rate)\n",
    "        elif param_index == 11:\n",
    "            neighbor[param_index] = random.choice(EPOCHS)\n",
    "        elif param_index == 12:\n",
    "            neighbor[param_index] = random.choice(BATCH_SIZE)\n",
    "\n",
    "        neighbor_mse = objective_function(neighbor)\n",
    "\n",
    "        # Acceptance criterion\n",
    "\n",
    "        mse_diff = neighbor_mse - current_mse\n",
    "        print(f\"current_solution {current_solution}\")\n",
    "        print(f\"neighbor {neighbor}\")\n",
    "        print(f\"mse diff: {mse_diff}\")\n",
    "        if mse_diff < 0 or random.random() < math.exp(-mse_diff / temp):\n",
    "            print(\"accept new solution\", neighbor)\n",
    "            current_solution = neighbor\n",
    "            current_mse = neighbor_mse\n",
    "\n",
    "            if neighbor_mse < best_mse:\n",
    "                print(\"better solution\")\n",
    "                best_solution = neighbor\n",
    "                best_mse = neighbor_mse\n",
    "\n",
    "        # Update temperature\n",
    "        temp = temp * alpha\n",
    "        print(f\"temp {temp}, mse {current_mse}, best_mse {best_mse}\")\n",
    "\n",
    "    return best_solution, best_mse\n",
    "\n",
    "\n",
    "# Run the simulated annealing algorithm\n",
    "initial_temp = 20  # Initial temperature\n",
    "final_temp = 0.2  # Final temperature\n",
    "alpha = 0.9  # Temperature decay rate\n",
    "max_iterations = 10000  # Maximum number of iterations\n",
    "\n",
    "best_params, best_mse = simulated_annealing(\n",
    "    initial_temp, final_temp, alpha, max_iterations)\n",
    "print(\"Best parameters:\", best_params)\n",
    "print(\"Best mse:\", best_mse)"
   ]
  }
 ],
 "metadata": {
  "kernelspec": {
   "display_name": "spyder",
   "language": "python",
   "name": "python3"
  },
  "language_info": {
   "codemirror_mode": {
    "name": "ipython",
    "version": 3
   },
   "file_extension": ".py",
   "mimetype": "text/x-python",
   "name": "python",
   "nbconvert_exporter": "python",
   "pygments_lexer": "ipython3",
   "version": "3.12.3"
  }
 },
 "nbformat": 4,
 "nbformat_minor": 2
}
